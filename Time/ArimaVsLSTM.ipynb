{
 "cells": [
  {
   "cell_type": "code",
   "execution_count": 1,
   "id": "initial_id",
   "metadata": {
    "ExecuteTime": {
     "end_time": "2025-04-24T09:22:08.180786Z",
     "start_time": "2025-04-24T09:22:06.467367Z"
    },
    "collapsed": true
   },
   "outputs": [],
   "source": [
    "import numpy as np\n",
    "import pandas as pd\n",
    "import matplotlib.pyplot as plt\n",
    "from sklearn.model_selection import train_test_split\n",
    "from statsmodels.graphics.tsaplots import plot_acf\n",
    "from statsmodels.graphics.tsaplots import plot_pacf\n",
    "from statsmodels.tsa.arima.model import ARIMA\n",
    "from sklearn.preprocessing import MinMaxScaler\n",
    "import torch\n",
    "from torch import nn"
   ]
  },
  {
   "cell_type": "code",
   "execution_count": 2,
   "id": "fa28c3681310be21",
   "metadata": {
    "ExecuteTime": {
     "end_time": "2025-04-24T09:22:39.895333Z",
     "start_time": "2025-04-24T09:22:39.857719Z"
    }
   },
   "outputs": [
    {
     "data": {
      "text/html": [
       "<div>\n",
       "<style scoped>\n",
       "    .dataframe tbody tr th:only-of-type {\n",
       "        vertical-align: middle;\n",
       "    }\n",
       "\n",
       "    .dataframe tbody tr th {\n",
       "        vertical-align: top;\n",
       "    }\n",
       "\n",
       "    .dataframe thead th {\n",
       "        text-align: right;\n",
       "    }\n",
       "</style>\n",
       "<table border=\"1\" class=\"dataframe\">\n",
       "  <thead>\n",
       "    <tr style=\"text-align: right;\">\n",
       "      <th></th>\n",
       "      <th>Date</th>\n",
       "      <th>USD</th>\n",
       "      <th>EUR</th>\n",
       "      <th>CNY</th>\n",
       "      <th>RUB</th>\n",
       "    </tr>\n",
       "  </thead>\n",
       "  <tbody>\n",
       "    <tr>\n",
       "      <th>0</th>\n",
       "      <td>01.01.2000</td>\n",
       "      <td>138.20</td>\n",
       "      <td>143.65</td>\n",
       "      <td>16.69</td>\n",
       "      <td>5.03</td>\n",
       "    </tr>\n",
       "    <tr>\n",
       "      <th>1</th>\n",
       "      <td>02.01.2000</td>\n",
       "      <td>138.20</td>\n",
       "      <td>143.65</td>\n",
       "      <td>16.69</td>\n",
       "      <td>5.03</td>\n",
       "    </tr>\n",
       "    <tr>\n",
       "      <th>2</th>\n",
       "      <td>03.01.2000</td>\n",
       "      <td>138.20</td>\n",
       "      <td>143.65</td>\n",
       "      <td>16.69</td>\n",
       "      <td>5.03</td>\n",
       "    </tr>\n",
       "    <tr>\n",
       "      <th>3</th>\n",
       "      <td>04.01.2000</td>\n",
       "      <td>138.20</td>\n",
       "      <td>143.65</td>\n",
       "      <td>16.69</td>\n",
       "      <td>5.03</td>\n",
       "    </tr>\n",
       "    <tr>\n",
       "      <th>4</th>\n",
       "      <td>05.01.2000</td>\n",
       "      <td>138.20</td>\n",
       "      <td>146.55</td>\n",
       "      <td>16.69</td>\n",
       "      <td>5.03</td>\n",
       "    </tr>\n",
       "    <tr>\n",
       "      <th>...</th>\n",
       "      <td>...</td>\n",
       "      <td>...</td>\n",
       "      <td>...</td>\n",
       "      <td>...</td>\n",
       "      <td>...</td>\n",
       "    </tr>\n",
       "    <tr>\n",
       "      <th>9081</th>\n",
       "      <td>03.12.2024</td>\n",
       "      <td>524.58</td>\n",
       "      <td>551.91</td>\n",
       "      <td>72.13</td>\n",
       "      <td>4.93</td>\n",
       "    </tr>\n",
       "    <tr>\n",
       "      <th>9082</th>\n",
       "      <td>04.12.2024</td>\n",
       "      <td>523.17</td>\n",
       "      <td>550.06</td>\n",
       "      <td>71.81</td>\n",
       "      <td>4.93</td>\n",
       "    </tr>\n",
       "    <tr>\n",
       "      <th>9083</th>\n",
       "      <td>05.12.2024</td>\n",
       "      <td>523.58</td>\n",
       "      <td>549.71</td>\n",
       "      <td>71.99</td>\n",
       "      <td>5.01</td>\n",
       "    </tr>\n",
       "    <tr>\n",
       "      <th>9084</th>\n",
       "      <td>06.12.2024</td>\n",
       "      <td>524.65</td>\n",
       "      <td>552.19</td>\n",
       "      <td>72.23</td>\n",
       "      <td>5.14</td>\n",
       "    </tr>\n",
       "    <tr>\n",
       "      <th>9085</th>\n",
       "      <td>07.12.2024</td>\n",
       "      <td>514.65</td>\n",
       "      <td>544.60</td>\n",
       "      <td>70.84</td>\n",
       "      <td>5.17</td>\n",
       "    </tr>\n",
       "  </tbody>\n",
       "</table>\n",
       "<p>9086 rows × 5 columns</p>\n",
       "</div>"
      ],
      "text/plain": [
       "            Date     USD     EUR    CNY   RUB\n",
       "0     01.01.2000  138.20  143.65  16.69  5.03\n",
       "1     02.01.2000  138.20  143.65  16.69  5.03\n",
       "2     03.01.2000  138.20  143.65  16.69  5.03\n",
       "3     04.01.2000  138.20  143.65  16.69  5.03\n",
       "4     05.01.2000  138.20  146.55  16.69  5.03\n",
       "...          ...     ...     ...    ...   ...\n",
       "9081  03.12.2024  524.58  551.91  72.13  4.93\n",
       "9082  04.12.2024  523.17  550.06  71.81  4.93\n",
       "9083  05.12.2024  523.58  549.71  71.99  5.01\n",
       "9084  06.12.2024  524.65  552.19  72.23  5.14\n",
       "9085  07.12.2024  514.65  544.60  70.84  5.17\n",
       "\n",
       "[9086 rows x 5 columns]"
      ]
     },
     "execution_count": 2,
     "metadata": {},
     "output_type": "execute_result"
    }
   ],
   "source": [
    "data = pd.read_csv('data.csv')\n",
    "data"
   ]
  },
  {
   "cell_type": "code",
   "execution_count": 3,
   "id": "9c7b9201fe5b3dc3",
   "metadata": {
    "ExecuteTime": {
     "end_time": "2025-04-24T09:22:40.430604Z",
     "start_time": "2025-04-24T09:22:40.421921Z"
    }
   },
   "outputs": [
    {
     "data": {
      "text/plain": [
       "Date     object\n",
       "USD     float64\n",
       "dtype: object"
      ]
     },
     "execution_count": 3,
     "metadata": {},
     "output_type": "execute_result"
    }
   ],
   "source": [
    "data = data[['Date', 'USD']]\n",
    "data.dtypes"
   ]
  },
  {
   "cell_type": "code",
   "execution_count": 4,
   "id": "8f8cd514b41fac97",
   "metadata": {
    "ExecuteTime": {
     "end_time": "2025-04-24T09:22:40.735438Z",
     "start_time": "2025-04-24T09:22:40.703010Z"
    }
   },
   "outputs": [
    {
     "name": "stderr",
     "output_type": "stream",
     "text": [
      "/tmp/ipykernel_51905/1887270223.py:1: SettingWithCopyWarning: \n",
      "A value is trying to be set on a copy of a slice from a DataFrame.\n",
      "Try using .loc[row_indexer,col_indexer] = value instead\n",
      "\n",
      "See the caveats in the documentation: https://pandas.pydata.org/pandas-docs/stable/user_guide/indexing.html#returning-a-view-versus-a-copy\n",
      "  data['Date'] = pd.to_datetime(data['Date'], dayfirst=True)\n"
     ]
    }
   ],
   "source": [
    "data['Date'] = pd.to_datetime(data['Date'], dayfirst=True)\n",
    "data.set_index('Date', inplace=True)"
   ]
  },
  {
   "cell_type": "code",
   "execution_count": 5,
   "id": "66903d6281ad6755",
   "metadata": {
    "ExecuteTime": {
     "end_time": "2025-04-24T09:22:41.070497Z",
     "start_time": "2025-04-24T09:22:41.062440Z"
    }
   },
   "outputs": [
    {
     "data": {
      "text/plain": [
       "USD    0\n",
       "dtype: int64"
      ]
     },
     "execution_count": 5,
     "metadata": {},
     "output_type": "execute_result"
    }
   ],
   "source": [
    "data.isnull().sum()"
   ]
  },
  {
   "cell_type": "code",
   "execution_count": 6,
   "id": "3660f2906792b8c0",
   "metadata": {
    "ExecuteTime": {
     "end_time": "2025-04-24T09:22:41.813178Z",
     "start_time": "2025-04-24T09:22:41.287793Z"
    }
   },
   "outputs": [
    {
     "data": {
      "image/png": "[encoded data removed]",
      "text/plain": [
       "<Figure size 1500x500 with 1 Axes>"
      ]
     },
     "metadata": {},
     "output_type": "display_data"
    }
   ],
   "source": [
    "mon = data[(data.index >= '2023-01-01') & (data.index < '2024-01-01')]\n",
    "\n",
    "plt.figure(figsize=(15, 5))\n",
    "plt.plot(data.index, data['USD'], linestyle='-', color='blue')\n",
    "plt.title('USD Value Over Time')\n",
    "plt.xlabel('Date')\n",
    "plt.ylabel('USD')\n",
    "plt.grid(True)\n",
    "plt.tight_layout()\n",
    "plt.show()"
   ]
  },
  {
   "cell_type": "code",
   "execution_count": 7,
   "id": "7219ce576e388803",
   "metadata": {
    "ExecuteTime": {
     "end_time": "2025-04-24T09:22:44.103458Z",
     "start_time": "2025-04-24T09:22:41.905517Z"
    }
   },
   "outputs": [
    {
     "name": "stdout",
     "output_type": "stream",
     "text": [
      "ADF Statistic: 0.7934229232545603\n",
      "p-value: 0.991529256477285\n",
      "Non-Stationary (fail to reject H₀)\n"
     ]
    }
   ],
   "source": [
    "from statsmodels.tsa.stattools import adfuller\n",
    "\n",
    "result = adfuller(data['USD'])\n",
    "print(f'ADF Statistic: {result[0]}')\n",
    "print(f'p-value: {result[1]}')\n",
    "\n",
    "if result[1] < 0.05:\n",
    "    print(\"Stationary (reject H₀)\")\n",
    "else:\n",
    "    print(\"Non-Stationary (fail to reject H₀)\")"
   ]
  },
  {
   "cell_type": "code",
   "execution_count": 8,
   "id": "cf6f21551dedaece",
   "metadata": {
    "ExecuteTime": {
     "end_time": "2025-04-24T09:22:44.215744Z",
     "start_time": "2025-04-24T09:22:44.206812Z"
    }
   },
   "outputs": [
    {
     "name": "stderr",
     "output_type": "stream",
     "text": [
      "/tmp/ipykernel_51905/3427961056.py:1: SettingWithCopyWarning: \n",
      "A value is trying to be set on a copy of a slice from a DataFrame.\n",
      "Try using .loc[row_indexer,col_indexer] = value instead\n",
      "\n",
      "See the caveats in the documentation: https://pandas.pydata.org/pandas-docs/stable/user_guide/indexing.html#returning-a-view-versus-a-copy\n",
      "  data['USDdiff'] = data['USD'].diff().dropna()\n"
     ]
    },
    {
     "data": {
      "text/html": [
       "<div>\n",
       "<style scoped>\n",
       "    .dataframe tbody tr th:only-of-type {\n",
       "        vertical-align: middle;\n",
       "    }\n",
       "\n",
       "    .dataframe tbody tr th {\n",
       "        vertical-align: top;\n",
       "    }\n",
       "\n",
       "    .dataframe thead th {\n",
       "        text-align: right;\n",
       "    }\n",
       "</style>\n",
       "<table border=\"1\" class=\"dataframe\">\n",
       "  <thead>\n",
       "    <tr style=\"text-align: right;\">\n",
       "      <th></th>\n",
       "      <th>USD</th>\n",
       "      <th>USDdiff</th>\n",
       "    </tr>\n",
       "    <tr>\n",
       "      <th>Date</th>\n",
       "      <th></th>\n",
       "      <th></th>\n",
       "    </tr>\n",
       "  </thead>\n",
       "  <tbody>\n",
       "    <tr>\n",
       "      <th>2000-01-01</th>\n",
       "      <td>138.20</td>\n",
       "      <td>NaN</td>\n",
       "    </tr>\n",
       "    <tr>\n",
       "      <th>2000-01-02</th>\n",
       "      <td>138.20</td>\n",
       "      <td>0.00</td>\n",
       "    </tr>\n",
       "    <tr>\n",
       "      <th>2000-01-03</th>\n",
       "      <td>138.20</td>\n",
       "      <td>0.00</td>\n",
       "    </tr>\n",
       "    <tr>\n",
       "      <th>2000-01-04</th>\n",
       "      <td>138.20</td>\n",
       "      <td>0.00</td>\n",
       "    </tr>\n",
       "    <tr>\n",
       "      <th>2000-01-05</th>\n",
       "      <td>138.20</td>\n",
       "      <td>0.00</td>\n",
       "    </tr>\n",
       "    <tr>\n",
       "      <th>...</th>\n",
       "      <td>...</td>\n",
       "      <td>...</td>\n",
       "    </tr>\n",
       "    <tr>\n",
       "      <th>2024-12-03</th>\n",
       "      <td>524.58</td>\n",
       "      <td>13.36</td>\n",
       "    </tr>\n",
       "    <tr>\n",
       "      <th>2024-12-04</th>\n",
       "      <td>523.17</td>\n",
       "      <td>-1.41</td>\n",
       "    </tr>\n",
       "    <tr>\n",
       "      <th>2024-12-05</th>\n",
       "      <td>523.58</td>\n",
       "      <td>0.41</td>\n",
       "    </tr>\n",
       "    <tr>\n",
       "      <th>2024-12-06</th>\n",
       "      <td>524.65</td>\n",
       "      <td>1.07</td>\n",
       "    </tr>\n",
       "    <tr>\n",
       "      <th>2024-12-07</th>\n",
       "      <td>514.65</td>\n",
       "      <td>-10.00</td>\n",
       "    </tr>\n",
       "  </tbody>\n",
       "</table>\n",
       "<p>9086 rows × 2 columns</p>\n",
       "</div>"
      ],
      "text/plain": [
       "               USD  USDdiff\n",
       "Date                       \n",
       "2000-01-01  138.20      NaN\n",
       "2000-01-02  138.20     0.00\n",
       "2000-01-03  138.20     0.00\n",
       "2000-01-04  138.20     0.00\n",
       "2000-01-05  138.20     0.00\n",
       "...            ...      ...\n",
       "2024-12-03  524.58    13.36\n",
       "2024-12-04  523.17    -1.41\n",
       "2024-12-05  523.58     0.41\n",
       "2024-12-06  524.65     1.07\n",
       "2024-12-07  514.65   -10.00\n",
       "\n",
       "[9086 rows x 2 columns]"
      ]
     },
     "execution_count": 8,
     "metadata": {},
     "output_type": "execute_result"
    }
   ],
   "source": [
    "data['USDdiff'] = data['USD'].diff().dropna()\n",
    "data"
   ]
  },
  {
   "cell_type": "code",
   "execution_count": 9,
   "id": "e0387f7bbed613ba",
   "metadata": {
    "ExecuteTime": {
     "end_time": "2025-04-24T09:22:44.816320Z",
     "start_time": "2025-04-24T09:22:44.309768Z"
    }
   },
   "outputs": [
    {
     "data": {
      "image/png": "[encoded data removed]",
      "text/plain": [
       "<Figure size 1500x500 with 1 Axes>"
      ]
     },
     "metadata": {},
     "output_type": "display_data"
    }
   ],
   "source": [
    "plt.figure(figsize=(15, 5))\n",
    "plt.plot(data.index, data['USDdiff'], linestyle='-', color='blue')\n",
    "plt.title('USD Value Over Time')\n",
    "plt.xlabel('Date')\n",
    "plt.ylabel('USD')\n",
    "plt.grid(True)\n",
    "plt.tight_layout()\n",
    "plt.show()"
   ]
  },
  {
   "cell_type": "code",
   "execution_count": 10,
   "id": "adcb488f37566618",
   "metadata": {
    "ExecuteTime": {
     "end_time": "2025-04-24T09:22:46.351158Z",
     "start_time": "2025-04-24T09:22:44.887884Z"
    }
   },
   "outputs": [
    {
     "name": "stdout",
     "output_type": "stream",
     "text": [
      "ADF Statistic: 0.7934229232545603\n",
      "p-value: 0.991529256477285\n",
      "Non-Stationary (fail to reject H₀)\n"
     ]
    }
   ],
   "source": [
    "result = adfuller(data['USD'])\n",
    "print(f'ADF Statistic: {result[0]}')\n",
    "print(f'p-value: {result[1]}')\n",
    "\n",
    "if result[1] < 0.05:\n",
    "    print(\"Stationary (reject H₀)\")\n",
    "else:\n",
    "    print(\"Non-Stationary (fail to reject H₀)\")"
   ]
  },
  {
   "cell_type": "code",
   "execution_count": 11,
   "id": "12d2923ba4597e27",
   "metadata": {
    "ExecuteTime": {
     "end_time": "2025-04-24T09:22:46.459209Z",
     "start_time": "2025-04-24T09:22:46.455664Z"
    }
   },
   "outputs": [],
   "source": [
    "origin = data['USD']\n",
    "data = data['USDdiff']"
   ]
  },
  {
   "cell_type": "code",
   "execution_count": 12,
   "id": "483c27296725a2db",
   "metadata": {
    "ExecuteTime": {
     "end_time": "2025-04-24T09:22:46.516617Z",
     "start_time": "2025-04-24T09:22:46.508505Z"
    }
   },
   "outputs": [
    {
     "data": {
      "text/plain": [
       "Date\n",
       "2000-01-01      NaN\n",
       "2000-01-02     0.00\n",
       "2000-01-03     0.00\n",
       "2000-01-04     0.00\n",
       "2000-01-05     0.00\n",
       "              ...  \n",
       "2024-12-03    13.36\n",
       "2024-12-04    -1.41\n",
       "2024-12-05     0.41\n",
       "2024-12-06     1.07\n",
       "2024-12-07   -10.00\n",
       "Name: USDdiff, Length: 9086, dtype: float64"
      ]
     },
     "execution_count": 12,
     "metadata": {},
     "output_type": "execute_result"
    }
   ],
   "source": [
    "data"
   ]
  },
  {
   "cell_type": "code",
   "execution_count": 13,
   "id": "1426b60a20c57e02",
   "metadata": {
    "ExecuteTime": {
     "end_time": "2025-04-24T09:22:46.770775Z",
     "start_time": "2025-04-24T09:22:46.761617Z"
    }
   },
   "outputs": [],
   "source": [
    "split = int(len(data) * 0.8)\n",
    "train, test = data[:split], data[split:]"
   ]
  },
  {
   "cell_type": "code",
   "execution_count": 14,
   "id": "bc7905d2e1124143",
   "metadata": {
    "ExecuteTime": {
     "end_time": "2025-04-24T09:22:47.204527Z",
     "start_time": "2025-04-24T09:22:47.185457Z"
    }
   },
   "outputs": [
    {
     "name": "stdout",
     "output_type": "stream",
     "text": [
      "count    7266.000000\n",
      "mean        0.000000\n",
      "std         1.826804\n",
      "min       -69.670000\n",
      "25%        -0.060000\n",
      "50%         0.000000\n",
      "75%         0.070000\n",
      "max        66.850000\n",
      "Name: USDdiff, dtype: float64\n"
     ]
    }
   ],
   "source": [
    "print(train.diff().dropna().describe())"
   ]
  },
  {
   "cell_type": "code",
   "execution_count": 15,
   "id": "4f502ba2a234194b",
   "metadata": {
    "ExecuteTime": {
     "end_time": "2025-04-24T09:22:48.009158Z",
     "start_time": "2025-04-24T09:22:47.987745Z"
    }
   },
   "outputs": [
    {
     "data": {
      "text/plain": [
       "USD\n",
       "142.65    63\n",
       "185.80    45\n",
       "142.70    42\n",
       "180.87    40\n",
       "182.00    37\n",
       "          ..\n",
       "181.34     1\n",
       "181.52     1\n",
       "183.28     1\n",
       "513.00     1\n",
       "499.51     1\n",
       "Name: count, Length: 3645, dtype: int64"
      ]
     },
     "execution_count": 15,
     "metadata": {},
     "output_type": "execute_result"
    }
   ],
   "source": [
    "origin.value_counts()"
   ]
  },
  {
   "cell_type": "code",
   "execution_count": 16,
   "id": "d0fc3bac7a9e173d",
   "metadata": {
    "ExecuteTime": {
     "end_time": "2025-04-24T09:22:49.683868Z",
     "start_time": "2025-04-24T09:22:48.882547Z"
    }
   },
   "outputs": [
    {
     "data": {
      "image/png": "[encoded data removed]",
      "text/plain": [
       "<Figure size 1500x500 with 1 Axes>"
      ]
     },
     "metadata": {},
     "output_type": "display_data"
    }
   ],
   "source": [
    "fig, ax = plt.subplots(figsize=(15, 5))\n",
    "plot_acf(train, lags=500, ax=ax)\n",
    "ax.set_title('ACF - AutoCorrelation')\n",
    "plt.show()"
   ]
  },
  {
   "cell_type": "code",
   "execution_count": 17,
   "id": "e79333b4b5be4cea",
   "metadata": {
    "ExecuteTime": {
     "end_time": "2025-04-24T09:22:50.664885Z",
     "start_time": "2025-04-24T09:22:49.938970Z"
    }
   },
   "outputs": [
    {
     "data": {
      "image/png": "[encoded data removed]",
      "text/plain": [
       "<Figure size 1500x500 with 1 Axes>"
      ]
     },
     "metadata": {},
     "output_type": "display_data"
    }
   ],
   "source": [
    "fig, ax = plt.subplots(figsize=(15, 5))\n",
    "plot_pacf(train, lags=30, ax=ax)\n",
    "ax.set_title('PACF - Partial AutoCorrelation')\n",
    "plt.show()"
   ]
  },
  {
   "cell_type": "code",
   "execution_count": 18,
   "id": "73b11a1a8a695dee",
   "metadata": {
    "ExecuteTime": {
     "end_time": "2025-04-24T09:22:51.293250Z",
     "start_time": "2025-04-24T09:22:51.271740Z"
    }
   },
   "outputs": [
    {
     "data": {
      "text/plain": [
       "Date\n",
       "2019-12-17     0.00\n",
       "2019-12-18     0.00\n",
       "2019-12-19     0.45\n",
       "2019-12-20     0.06\n",
       "2019-12-21    -1.47\n",
       "              ...  \n",
       "2024-12-03    13.36\n",
       "2024-12-04    -1.41\n",
       "2024-12-05     0.41\n",
       "2024-12-06     1.07\n",
       "2024-12-07   -10.00\n",
       "Name: USDdiff, Length: 1818, dtype: float64"
      ]
     },
     "execution_count": 18,
     "metadata": {},
     "output_type": "execute_result"
    }
   ],
   "source": [
    "test"
   ]
  },
  {
   "cell_type": "code",
   "execution_count": 19,
   "id": "497dc31c9ad8447",
   "metadata": {
    "ExecuteTime": {
     "end_time": "2025-04-24T09:22:52.589330Z",
     "start_time": "2025-04-24T09:22:51.700534Z"
    }
   },
   "outputs": [
    {
     "name": "stderr",
     "output_type": "stream",
     "text": [
      "/home/yeaz/PycharmProjects/Science/.venv/lib/python3.12/site-packages/statsmodels/tsa/base/tsa_model.py:473: ValueWarning: A date index has been provided, but it has no associated frequency information and so will be ignored when e.g. forecasting.\n",
      "  self._init_dates(dates, freq)\n",
      "/home/yeaz/PycharmProjects/Science/.venv/lib/python3.12/site-packages/statsmodels/tsa/base/tsa_model.py:473: ValueWarning: A date index has been provided, but it has no associated frequency information and so will be ignored when e.g. forecasting.\n",
      "  self._init_dates(dates, freq)\n",
      "/home/yeaz/PycharmProjects/Science/.venv/lib/python3.12/site-packages/statsmodels/tsa/base/tsa_model.py:473: ValueWarning: A date index has been provided, but it has no associated frequency information and so will be ignored when e.g. forecasting.\n",
      "  self._init_dates(dates, freq)\n"
     ]
    }
   ],
   "source": [
    "model = ARIMA(train, order=(0,0,0))\n",
    "model_fit = model.fit()"
   ]
  },
  {
   "cell_type": "code",
   "execution_count": 20,
   "id": "2e7382cf8793d6e7",
   "metadata": {
    "ExecuteTime": {
     "end_time": "2025-04-24T09:22:52.643329Z",
     "start_time": "2025-04-24T09:22:52.636063Z"
    }
   },
   "outputs": [
    {
     "name": "stderr",
     "output_type": "stream",
     "text": [
      "/home/yeaz/PycharmProjects/Science/.venv/lib/python3.12/site-packages/statsmodels/tsa/base/tsa_model.py:837: ValueWarning: No supported index is available. Prediction results will be given with an integer index beginning at `start`.\n",
      "  return get_prediction_index(\n",
      "/home/yeaz/PycharmProjects/Science/.venv/lib/python3.12/site-packages/statsmodels/tsa/base/tsa_model.py:837: FutureWarning: No supported index is available. In the next version, calling this method in a model without a supported index will result in an exception.\n",
      "  return get_prediction_index(\n"
     ]
    },
    {
     "data": {
      "text/plain": [
       "7268    0.033812\n",
       "7269    0.033812\n",
       "7270    0.033812\n",
       "7271    0.033812\n",
       "7272    0.033812\n",
       "7273    0.033812\n",
       "7274    0.033812\n",
       "7275    0.033812\n",
       "7276    0.033812\n",
       "7277    0.033812\n",
       "Name: predicted_mean, dtype: float64"
      ]
     },
     "execution_count": 20,
     "metadata": {},
     "output_type": "execute_result"
    }
   ],
   "source": [
    "forecast = model_fit.forecast(steps=10)\n",
    "forecast"
   ]
  },
  {
   "cell_type": "code",
   "execution_count": 21,
   "id": "f25f949b95644002",
   "metadata": {
    "ExecuteTime": {
     "end_time": "2025-04-24T09:22:52.716090Z",
     "start_time": "2025-04-24T09:22:52.712827Z"
    }
   },
   "outputs": [],
   "source": [
    "month = train[-30:]"
   ]
  },
  {
   "cell_type": "code",
   "execution_count": 22,
   "id": "6503072f4c128e89",
   "metadata": {
    "ExecuteTime": {
     "end_time": "2025-04-24T09:22:53.117365Z",
     "start_time": "2025-04-24T09:22:52.841052Z"
    }
   },
   "outputs": [
    {
     "name": "stderr",
     "output_type": "stream",
     "text": [
      "/home/yeaz/PycharmProjects/Science/.venv/lib/python3.12/site-packages/statsmodels/tsa/base/tsa_model.py:837: ValueWarning: No supported index is available. Prediction results will be given with an integer index beginning at `start`.\n",
      "  return get_prediction_index(\n",
      "/home/yeaz/PycharmProjects/Science/.venv/lib/python3.12/site-packages/statsmodels/tsa/base/tsa_model.py:837: FutureWarning: No supported index is available. In the next version, calling this method in a model without a supported index will result in an exception.\n",
      "  return get_prediction_index(\n"
     ]
    },
    {
     "data": {
      "image/png": "[encoded data removed]",
      "text/plain": [
       "<Figure size 640x480 with 1 Axes>"
      ]
     },
     "metadata": {},
     "output_type": "display_data"
    }
   ],
   "source": [
    "forecast_steps = 10\n",
    "forecast = model_fit.forecast(steps=forecast_steps)\n",
    "\n",
    "actual_x = range(len(month))\n",
    "\n",
    "forecast_x = range(len(month), len(month) + forecast_steps)\n",
    "\n",
    "plt.plot(actual_x, month, label=\"Last month\", color='blue')\n",
    "\n",
    "plt.plot(forecast_x, forecast, label=\"Forecasted values\", color='red', linestyle='--')\n",
    "\n",
    "plt.title('Actual vs Forecasted Values for the Last Month')\n",
    "plt.xlabel('Time')\n",
    "plt.ylabel('Value')\n",
    "plt.legend()\n",
    "plt.show()"
   ]
  },
  {
   "cell_type": "code",
   "execution_count": 23,
   "id": "4109eca5fc9cbfff",
   "metadata": {
    "ExecuteTime": {
     "end_time": "2025-04-24T09:22:53.164676Z",
     "start_time": "2025-04-24T09:22:53.161475Z"
    }
   },
   "outputs": [],
   "source": [
    "scaler = MinMaxScaler(feature_range=(0, 1))"
   ]
  },
  {
   "cell_type": "code",
   "execution_count": 24,
   "id": "e8f791d5240f1fc0",
   "metadata": {
    "ExecuteTime": {
     "end_time": "2025-04-24T09:22:53.226626Z",
     "start_time": "2025-04-24T09:22:53.221693Z"
    }
   },
   "outputs": [],
   "source": [
    "def create_sequences(data, steps):\n",
    "    for i in range(1, steps + 1):\n",
    "        data[f'USD(t-{i})'] = data['USD'].shift(i)\n",
    "\n",
    "    data.dropna(inplace=True)\n",
    "    return data"
   ]
  },
  {
   "cell_type": "code",
   "execution_count": 25,
   "id": "84243063a9d01f65",
   "metadata": {
    "ExecuteTime": {
     "end_time": "2025-04-24T09:22:53.346358Z",
     "start_time": "2025-04-24T09:22:53.283298Z"
    }
   },
   "outputs": [
    {
     "data": {
      "text/html": [
       "<div>\n",
       "<style scoped>\n",
       "    .dataframe tbody tr th:only-of-type {\n",
       "        vertical-align: middle;\n",
       "    }\n",
       "\n",
       "    .dataframe tbody tr th {\n",
       "        vertical-align: top;\n",
       "    }\n",
       "\n",
       "    .dataframe thead th {\n",
       "        text-align: right;\n",
       "    }\n",
       "</style>\n",
       "<table border=\"1\" class=\"dataframe\">\n",
       "  <thead>\n",
       "    <tr style=\"text-align: right;\">\n",
       "      <th></th>\n",
       "      <th>USD</th>\n",
       "    </tr>\n",
       "    <tr>\n",
       "      <th>Date</th>\n",
       "      <th></th>\n",
       "    </tr>\n",
       "  </thead>\n",
       "  <tbody>\n",
       "    <tr>\n",
       "      <th>2000-01-01</th>\n",
       "      <td>138.20</td>\n",
       "    </tr>\n",
       "    <tr>\n",
       "      <th>2000-01-02</th>\n",
       "      <td>138.20</td>\n",
       "    </tr>\n",
       "    <tr>\n",
       "      <th>2000-01-03</th>\n",
       "      <td>138.20</td>\n",
       "    </tr>\n",
       "    <tr>\n",
       "      <th>2000-01-04</th>\n",
       "      <td>138.20</td>\n",
       "    </tr>\n",
       "    <tr>\n",
       "      <th>2000-01-05</th>\n",
       "      <td>138.20</td>\n",
       "    </tr>\n",
       "    <tr>\n",
       "      <th>...</th>\n",
       "      <td>...</td>\n",
       "    </tr>\n",
       "    <tr>\n",
       "      <th>2024-12-03</th>\n",
       "      <td>524.58</td>\n",
       "    </tr>\n",
       "    <tr>\n",
       "      <th>2024-12-04</th>\n",
       "      <td>523.17</td>\n",
       "    </tr>\n",
       "    <tr>\n",
       "      <th>2024-12-05</th>\n",
       "      <td>523.58</td>\n",
       "    </tr>\n",
       "    <tr>\n",
       "      <th>2024-12-06</th>\n",
       "      <td>524.65</td>\n",
       "    </tr>\n",
       "    <tr>\n",
       "      <th>2024-12-07</th>\n",
       "      <td>514.65</td>\n",
       "    </tr>\n",
       "  </tbody>\n",
       "</table>\n",
       "<p>9086 rows × 1 columns</p>\n",
       "</div>"
      ],
      "text/plain": [
       "               USD\n",
       "Date              \n",
       "2000-01-01  138.20\n",
       "2000-01-02  138.20\n",
       "2000-01-03  138.20\n",
       "2000-01-04  138.20\n",
       "2000-01-05  138.20\n",
       "...            ...\n",
       "2024-12-03  524.58\n",
       "2024-12-04  523.17\n",
       "2024-12-05  523.58\n",
       "2024-12-06  524.65\n",
       "2024-12-07  514.65\n",
       "\n",
       "[9086 rows x 1 columns]"
      ]
     },
     "execution_count": 25,
     "metadata": {},
     "output_type": "execute_result"
    }
   ],
   "source": [
    "data = pd.read_csv('data.csv')\n",
    "data = data[['Date', 'USD']]\n",
    "data['Date'] = pd.to_datetime(data['Date'], dayfirst=True)\n",
    "data.set_index('Date', inplace=True)\n",
    "data"
   ]
  },
  {
   "cell_type": "code",
   "execution_count": 26,
   "id": "ae72085024c6809a",
   "metadata": {
    "ExecuteTime": {
     "end_time": "2025-04-24T09:22:53.418441Z",
     "start_time": "2025-04-24T09:22:53.410647Z"
    }
   },
   "outputs": [],
   "source": [
    "lookback = 15\n",
    "data = create_sequences(data, lookback)"
   ]
  },
  {
   "cell_type": "code",
   "execution_count": 27,
   "id": "50339432498e3b97",
   "metadata": {
    "ExecuteTime": {
     "end_time": "2025-04-24T09:22:53.602158Z",
     "start_time": "2025-04-24T09:22:53.572225Z"
    }
   },
   "outputs": [
    {
     "data": {
      "text/html": [
       "<div>\n",
       "<style scoped>\n",
       "    .dataframe tbody tr th:only-of-type {\n",
       "        vertical-align: middle;\n",
       "    }\n",
       "\n",
       "    .dataframe tbody tr th {\n",
       "        vertical-align: top;\n",
       "    }\n",
       "\n",
       "    .dataframe thead th {\n",
       "        text-align: right;\n",
       "    }\n",
       "</style>\n",
       "<table border=\"1\" class=\"dataframe\">\n",
       "  <thead>\n",
       "    <tr style=\"text-align: right;\">\n",
       "      <th></th>\n",
       "      <th>USD</th>\n",
       "      <th>USD(t-1)</th>\n",
       "      <th>USD(t-2)</th>\n",
       "      <th>USD(t-3)</th>\n",
       "      <th>USD(t-4)</th>\n",
       "      <th>USD(t-5)</th>\n",
       "      <th>USD(t-6)</th>\n",
       "      <th>USD(t-7)</th>\n",
       "      <th>USD(t-8)</th>\n",
       "      <th>USD(t-9)</th>\n",
       "      <th>USD(t-10)</th>\n",
       "      <th>USD(t-11)</th>\n",
       "      <th>USD(t-12)</th>\n",
       "      <th>USD(t-13)</th>\n",
       "      <th>USD(t-14)</th>\n",
       "      <th>USD(t-15)</th>\n",
       "    </tr>\n",
       "    <tr>\n",
       "      <th>Date</th>\n",
       "      <th></th>\n",
       "      <th></th>\n",
       "      <th></th>\n",
       "      <th></th>\n",
       "      <th></th>\n",
       "      <th></th>\n",
       "      <th></th>\n",
       "      <th></th>\n",
       "      <th></th>\n",
       "      <th></th>\n",
       "      <th></th>\n",
       "      <th></th>\n",
       "      <th></th>\n",
       "      <th></th>\n",
       "      <th></th>\n",
       "      <th></th>\n",
       "    </tr>\n",
       "  </thead>\n",
       "  <tbody>\n",
       "    <tr>\n",
       "      <th>2000-01-16</th>\n",
       "      <td>139.40</td>\n",
       "      <td>139.40</td>\n",
       "      <td>138.95</td>\n",
       "      <td>138.95</td>\n",
       "      <td>138.95</td>\n",
       "      <td>138.70</td>\n",
       "      <td>138.70</td>\n",
       "      <td>138.70</td>\n",
       "      <td>138.70</td>\n",
       "      <td>138.20</td>\n",
       "      <td>138.20</td>\n",
       "      <td>138.20</td>\n",
       "      <td>138.20</td>\n",
       "      <td>138.20</td>\n",
       "      <td>138.20</td>\n",
       "      <td>138.20</td>\n",
       "    </tr>\n",
       "    <tr>\n",
       "      <th>2000-01-17</th>\n",
       "      <td>139.40</td>\n",
       "      <td>139.40</td>\n",
       "      <td>139.40</td>\n",
       "      <td>138.95</td>\n",
       "      <td>138.95</td>\n",
       "      <td>138.95</td>\n",
       "      <td>138.70</td>\n",
       "      <td>138.70</td>\n",
       "      <td>138.70</td>\n",
       "      <td>138.70</td>\n",
       "      <td>138.20</td>\n",
       "      <td>138.20</td>\n",
       "      <td>138.20</td>\n",
       "      <td>138.20</td>\n",
       "      <td>138.20</td>\n",
       "      <td>138.20</td>\n",
       "    </tr>\n",
       "    <tr>\n",
       "      <th>2000-01-18</th>\n",
       "      <td>139.40</td>\n",
       "      <td>139.40</td>\n",
       "      <td>139.40</td>\n",
       "      <td>139.40</td>\n",
       "      <td>138.95</td>\n",
       "      <td>138.95</td>\n",
       "      <td>138.95</td>\n",
       "      <td>138.70</td>\n",
       "      <td>138.70</td>\n",
       "      <td>138.70</td>\n",
       "      <td>138.70</td>\n",
       "      <td>138.20</td>\n",
       "      <td>138.20</td>\n",
       "      <td>138.20</td>\n",
       "      <td>138.20</td>\n",
       "      <td>138.20</td>\n",
       "    </tr>\n",
       "    <tr>\n",
       "      <th>2000-01-19</th>\n",
       "      <td>139.50</td>\n",
       "      <td>139.40</td>\n",
       "      <td>139.40</td>\n",
       "      <td>139.40</td>\n",
       "      <td>139.40</td>\n",
       "      <td>138.95</td>\n",
       "      <td>138.95</td>\n",
       "      <td>138.95</td>\n",
       "      <td>138.70</td>\n",
       "      <td>138.70</td>\n",
       "      <td>138.70</td>\n",
       "      <td>138.70</td>\n",
       "      <td>138.20</td>\n",
       "      <td>138.20</td>\n",
       "      <td>138.20</td>\n",
       "      <td>138.20</td>\n",
       "    </tr>\n",
       "    <tr>\n",
       "      <th>2000-01-20</th>\n",
       "      <td>139.50</td>\n",
       "      <td>139.50</td>\n",
       "      <td>139.40</td>\n",
       "      <td>139.40</td>\n",
       "      <td>139.40</td>\n",
       "      <td>139.40</td>\n",
       "      <td>138.95</td>\n",
       "      <td>138.95</td>\n",
       "      <td>138.95</td>\n",
       "      <td>138.70</td>\n",
       "      <td>138.70</td>\n",
       "      <td>138.70</td>\n",
       "      <td>138.70</td>\n",
       "      <td>138.20</td>\n",
       "      <td>138.20</td>\n",
       "      <td>138.20</td>\n",
       "    </tr>\n",
       "    <tr>\n",
       "      <th>...</th>\n",
       "      <td>...</td>\n",
       "      <td>...</td>\n",
       "      <td>...</td>\n",
       "      <td>...</td>\n",
       "      <td>...</td>\n",
       "      <td>...</td>\n",
       "      <td>...</td>\n",
       "      <td>...</td>\n",
       "      <td>...</td>\n",
       "      <td>...</td>\n",
       "      <td>...</td>\n",
       "      <td>...</td>\n",
       "      <td>...</td>\n",
       "      <td>...</td>\n",
       "      <td>...</td>\n",
       "      <td>...</td>\n",
       "    </tr>\n",
       "    <tr>\n",
       "      <th>2024-12-03</th>\n",
       "      <td>524.58</td>\n",
       "      <td>511.22</td>\n",
       "      <td>511.22</td>\n",
       "      <td>511.22</td>\n",
       "      <td>513.00</td>\n",
       "      <td>499.51</td>\n",
       "      <td>498.55</td>\n",
       "      <td>498.51</td>\n",
       "      <td>498.34</td>\n",
       "      <td>498.34</td>\n",
       "      <td>498.34</td>\n",
       "      <td>494.87</td>\n",
       "      <td>495.20</td>\n",
       "      <td>497.26</td>\n",
       "      <td>497.89</td>\n",
       "      <td>495.95</td>\n",
       "    </tr>\n",
       "    <tr>\n",
       "      <th>2024-12-04</th>\n",
       "      <td>523.17</td>\n",
       "      <td>524.58</td>\n",
       "      <td>511.22</td>\n",
       "      <td>511.22</td>\n",
       "      <td>511.22</td>\n",
       "      <td>513.00</td>\n",
       "      <td>499.51</td>\n",
       "      <td>498.55</td>\n",
       "      <td>498.51</td>\n",
       "      <td>498.34</td>\n",
       "      <td>498.34</td>\n",
       "      <td>498.34</td>\n",
       "      <td>494.87</td>\n",
       "      <td>495.20</td>\n",
       "      <td>497.26</td>\n",
       "      <td>497.89</td>\n",
       "    </tr>\n",
       "    <tr>\n",
       "      <th>2024-12-05</th>\n",
       "      <td>523.58</td>\n",
       "      <td>523.17</td>\n",
       "      <td>524.58</td>\n",
       "      <td>511.22</td>\n",
       "      <td>511.22</td>\n",
       "      <td>511.22</td>\n",
       "      <td>513.00</td>\n",
       "      <td>499.51</td>\n",
       "      <td>498.55</td>\n",
       "      <td>498.51</td>\n",
       "      <td>498.34</td>\n",
       "      <td>498.34</td>\n",
       "      <td>498.34</td>\n",
       "      <td>494.87</td>\n",
       "      <td>495.20</td>\n",
       "      <td>497.26</td>\n",
       "    </tr>\n",
       "    <tr>\n",
       "      <th>2024-12-06</th>\n",
       "      <td>524.65</td>\n",
       "      <td>523.58</td>\n",
       "      <td>523.17</td>\n",
       "      <td>524.58</td>\n",
       "      <td>511.22</td>\n",
       "      <td>511.22</td>\n",
       "      <td>511.22</td>\n",
       "      <td>513.00</td>\n",
       "      <td>499.51</td>\n",
       "      <td>498.55</td>\n",
       "      <td>498.51</td>\n",
       "      <td>498.34</td>\n",
       "      <td>498.34</td>\n",
       "      <td>498.34</td>\n",
       "      <td>494.87</td>\n",
       "      <td>495.20</td>\n",
       "    </tr>\n",
       "    <tr>\n",
       "      <th>2024-12-07</th>\n",
       "      <td>514.65</td>\n",
       "      <td>524.65</td>\n",
       "      <td>523.58</td>\n",
       "      <td>523.17</td>\n",
       "      <td>524.58</td>\n",
       "      <td>511.22</td>\n",
       "      <td>511.22</td>\n",
       "      <td>511.22</td>\n",
       "      <td>513.00</td>\n",
       "      <td>499.51</td>\n",
       "      <td>498.55</td>\n",
       "      <td>498.51</td>\n",
       "      <td>498.34</td>\n",
       "      <td>498.34</td>\n",
       "      <td>498.34</td>\n",
       "      <td>494.87</td>\n",
       "    </tr>\n",
       "  </tbody>\n",
       "</table>\n",
       "<p>9071 rows × 16 columns</p>\n",
       "</div>"
      ],
      "text/plain": [
       "               USD  USD(t-1)  USD(t-2)  USD(t-3)  USD(t-4)  USD(t-5)  \\\n",
       "Date                                                                   \n",
       "2000-01-16  139.40    139.40    138.95    138.95    138.95    138.70   \n",
       "2000-01-17  139.40    139.40    139.40    138.95    138.95    138.95   \n",
       "2000-01-18  139.40    139.40    139.40    139.40    138.95    138.95   \n",
       "2000-01-19  139.50    139.40    139.40    139.40    139.40    138.95   \n",
       "2000-01-20  139.50    139.50    139.40    139.40    139.40    139.40   \n",
       "...            ...       ...       ...       ...       ...       ...   \n",
       "2024-12-03  524.58    511.22    511.22    511.22    513.00    499.51   \n",
       "2024-12-04  523.17    524.58    511.22    511.22    511.22    513.00   \n",
       "2024-12-05  523.58    523.17    524.58    511.22    511.22    511.22   \n",
       "2024-12-06  524.65    523.58    523.17    524.58    511.22    511.22   \n",
       "2024-12-07  514.65    524.65    523.58    523.17    524.58    511.22   \n",
       "\n",
       "            USD(t-6)  USD(t-7)  USD(t-8)  USD(t-9)  USD(t-10)  USD(t-11)  \\\n",
       "Date                                                                       \n",
       "2000-01-16    138.70    138.70    138.70    138.20     138.20     138.20   \n",
       "2000-01-17    138.70    138.70    138.70    138.70     138.20     138.20   \n",
       "2000-01-18    138.95    138.70    138.70    138.70     138.70     138.20   \n",
       "2000-01-19    138.95    138.95    138.70    138.70     138.70     138.70   \n",
       "2000-01-20    138.95    138.95    138.95    138.70     138.70     138.70   \n",
       "...              ...       ...       ...       ...        ...        ...   \n",
       "2024-12-03    498.55    498.51    498.34    498.34     498.34     494.87   \n",
       "2024-12-04    499.51    498.55    498.51    498.34     498.34     498.34   \n",
       "2024-12-05    513.00    499.51    498.55    498.51     498.34     498.34   \n",
       "2024-12-06    511.22    513.00    499.51    498.55     498.51     498.34   \n",
       "2024-12-07    511.22    511.22    513.00    499.51     498.55     498.51   \n",
       "\n",
       "            USD(t-12)  USD(t-13)  USD(t-14)  USD(t-15)  \n",
       "Date                                                    \n",
       "2000-01-16     138.20     138.20     138.20     138.20  \n",
       "2000-01-17     138.20     138.20     138.20     138.20  \n",
       "2000-01-18     138.20     138.20     138.20     138.20  \n",
       "2000-01-19     138.20     138.20     138.20     138.20  \n",
       "2000-01-20     138.70     138.20     138.20     138.20  \n",
       "...               ...        ...        ...        ...  \n",
       "2024-12-03     495.20     497.26     497.89     495.95  \n",
       "2024-12-04     494.87     495.20     497.26     497.89  \n",
       "2024-12-05     498.34     494.87     495.20     497.26  \n",
       "2024-12-06     498.34     498.34     494.87     495.20  \n",
       "2024-12-07     498.34     498.34     498.34     494.87  \n",
       "\n",
       "[9071 rows x 16 columns]"
      ]
     },
     "execution_count": 27,
     "metadata": {},
     "output_type": "execute_result"
    }
   ],
   "source": [
    "data"
   ]
  },
  {
   "cell_type": "code",
   "execution_count": 28,
   "id": "c7a976d3065660a2",
   "metadata": {
    "ExecuteTime": {
     "end_time": "2025-04-24T09:22:53.747632Z",
     "start_time": "2025-04-24T09:22:53.742848Z"
    }
   },
   "outputs": [],
   "source": [
    "X = data.drop(columns=['USD'])\n",
    "y = data['USD']"
   ]
  },
  {
   "cell_type": "code",
   "execution_count": 29,
   "id": "9e9a0702321ee86b",
   "metadata": {
    "ExecuteTime": {
     "end_time": "2025-04-24T09:22:53.898574Z",
     "start_time": "2025-04-24T09:22:53.886817Z"
    }
   },
   "outputs": [],
   "source": [
    "scaler = MinMaxScaler()\n",
    "X_scaled = scaler.fit_transform(X)\n",
    "y_scaled = scaler.fit_transform(y.values.reshape(-1, 1))"
   ]
  },
  {
   "cell_type": "code",
   "execution_count": 30,
   "id": "8d666c29c538e384",
   "metadata": {
    "ExecuteTime": {
     "end_time": "2025-04-24T09:22:54.051572Z",
     "start_time": "2025-04-24T09:22:54.048105Z"
    }
   },
   "outputs": [],
   "source": [
    "X_train, X_test, y_train, y_test = train_test_split(X_scaled, y_scaled, test_size=0.2, shuffle=False)"
   ]
  },
  {
   "cell_type": "code",
   "execution_count": 31,
   "id": "18ef68d9ea5055b7",
   "metadata": {
    "ExecuteTime": {
     "end_time": "2025-04-24T09:22:54.165006Z",
     "start_time": "2025-04-24T09:22:54.158528Z"
    }
   },
   "outputs": [],
   "source": [
    "X_train = X_train.reshape((X_train.shape[0], lookback, 1))\n",
    "X_test = X_test.reshape((X_test.shape[0], lookback, 1))"
   ]
  },
  {
   "cell_type": "code",
   "execution_count": 32,
   "id": "f3e861c1385de8ae",
   "metadata": {
    "ExecuteTime": {
     "end_time": "2025-04-24T09:22:54.229685Z",
     "start_time": "2025-04-24T09:22:54.227683Z"
    }
   },
   "outputs": [],
   "source": [
    "from torch.utils.data import Dataset\n",
    "from torch.utils.data import DataLoader"
   ]
  },
  {
   "cell_type": "code",
   "execution_count": 33,
   "id": "fdb3c8f343d881cd",
   "metadata": {
    "ExecuteTime": {
     "end_time": "2025-04-24T09:22:54.337138Z",
     "start_time": "2025-04-24T09:22:54.333632Z"
    }
   },
   "outputs": [],
   "source": [
    "class TimeDataset(Dataset):\n",
    "    def __init__(self, X, y):\n",
    "        self.X = X\n",
    "        self.y = y\n",
    "\n",
    "    def __len__(self):\n",
    "        return len(self.X)\n",
    "\n",
    "    def __getitem__(self, item):\n",
    "        return self.X[item], self.y[item]"
   ]
  },
  {
   "cell_type": "code",
   "execution_count": 34,
   "id": "86a632fbdcac478a",
   "metadata": {
    "ExecuteTime": {
     "end_time": "2025-04-24T09:22:54.410333Z",
     "start_time": "2025-04-24T09:22:54.405931Z"
    }
   },
   "outputs": [],
   "source": [
    "train_dataset = TimeDataset(torch.tensor(X_train, dtype=torch.float32),\n",
    "                            torch.tensor(y_train, dtype=torch.float32).unsqueeze(1))\n",
    "\n",
    "test_dataset = TimeDataset(torch.tensor(X_test, dtype=torch.float32),\n",
    "                           torch.tensor(y_test, dtype=torch.float32).unsqueeze(1))\n",
    "\n",
    "train_loader = DataLoader(train_dataset, batch_size=32, shuffle=False)\n",
    "test_loader = DataLoader(test_dataset, batch_size=32, shuffle=False)"
   ]
  },
  {
   "cell_type": "code",
   "execution_count": 35,
   "id": "64895bff8b16cc17",
   "metadata": {
    "ExecuteTime": {
     "end_time": "2025-04-24T09:22:54.506249Z",
     "start_time": "2025-04-24T09:22:54.498534Z"
    }
   },
   "outputs": [],
   "source": [
    "class LSTM(nn.Module):\n",
    "    def __init__(self, input_size, hidden_size, num_layers):\n",
    "        super(LSTM, self).__init__()\n",
    "        self.hidden_size = hidden_size\n",
    "        self.num_layers = num_layers\n",
    "\n",
    "        self.lstm = nn.LSTM(input_size, hidden_size, num_layers, batch_first=True)\n",
    "\n",
    "        self.fc = nn.Linear(hidden_size, 1)\n",
    "\n",
    "    def forward(self, x):\n",
    "        batch_size = x.size(0)\n",
    "\n",
    "        h0 = torch.zeros(self.num_layers, batch_size, self.hidden_size).to(device)\n",
    "        c0 = torch.zeros(self.num_layers, batch_size, self.hidden_size).to(device)\n",
    "\n",
    "        out, _ = self.lstm(x, (h0, c0))\n",
    "\n",
    "        out = self.fc(out[:, -1, :])\n",
    "        return out"
   ]
  },
  {
   "cell_type": "code",
   "execution_count": 36,
   "id": "b542a00a0f193ffd",
   "metadata": {
    "ExecuteTime": {
     "end_time": "2025-04-24T09:22:58.946768Z",
     "start_time": "2025-04-24T09:22:54.581479Z"
    }
   },
   "outputs": [],
   "source": [
    "input_size = 1\n",
    "hidden_size = 64\n",
    "num_layers = 2\n",
    "device = torch.device(\"cuda\" if torch.cuda.is_available() else \"cpu\")\n",
    "\n",
    "model = LSTM(input_size, hidden_size, num_layers).to(device)\n",
    "\n",
    "criterion = nn.MSELoss()\n",
    "optimizer = torch.optim.Adam(model.parameters(), lr=0.001)"
   ]
  },
  {
   "cell_type": "code",
   "execution_count": 37,
   "id": "21d047349db2d070",
   "metadata": {
    "ExecuteTime": {
     "end_time": "2025-04-24T09:23:18.098026Z",
     "start_time": "2025-04-24T09:22:59.069510Z"
    }
   },
   "outputs": [
    {
     "name": "stderr",
     "output_type": "stream",
     "text": [
      "/home/yeaz/PycharmProjects/Science/.venv/lib/python3.12/site-packages/torch/nn/modules/loss.py:610: UserWarning: Using a target size (torch.Size([32, 1, 1])) that is different to the input size (torch.Size([32, 1])). This will likely lead to incorrect results due to broadcasting. Please ensure they have the same size.\n",
      "  return F.mse_loss(input, target, reduction=self.reduction)\n",
      "/home/yeaz/PycharmProjects/Science/.venv/lib/python3.12/site-packages/torch/nn/modules/loss.py:610: UserWarning: Using a target size (torch.Size([24, 1, 1])) that is different to the input size (torch.Size([24, 1])). This will likely lead to incorrect results due to broadcasting. Please ensure they have the same size.\n",
      "  return F.mse_loss(input, target, reduction=self.reduction)\n"
     ]
    },
    {
     "name": "stdout",
     "output_type": "stream",
     "text": [
      "Epoch 1/20, Loss: 0.0028\n",
      "Epoch 2/20, Loss: 0.0145\n",
      "Epoch 3/20, Loss: 0.0198\n",
      "Epoch 4/20, Loss: 0.0219\n",
      "Epoch 5/20, Loss: 0.0178\n",
      "Epoch 6/20, Loss: 0.0088\n",
      "Epoch 7/20, Loss: 0.0025\n",
      "Epoch 8/20, Loss: 0.0006\n",
      "Epoch 9/20, Loss: 0.0003\n",
      "Epoch 10/20, Loss: 0.0003\n",
      "Epoch 11/20, Loss: 0.0002\n",
      "Epoch 12/20, Loss: 0.0002\n",
      "Epoch 13/20, Loss: 0.0002\n",
      "Epoch 14/20, Loss: 0.0002\n",
      "Epoch 15/20, Loss: 0.0002\n",
      "Epoch 16/20, Loss: 0.0002\n",
      "Epoch 17/20, Loss: 0.0002\n",
      "Epoch 18/20, Loss: 0.0002\n",
      "Epoch 19/20, Loss: 0.0003\n",
      "Epoch 20/20, Loss: 0.0003\n"
     ]
    }
   ],
   "source": [
    "n_epochs = 20\n",
    "\n",
    "for epoch in range(n_epochs):\n",
    "    model.train()\n",
    "    total_loss = 0\n",
    "    for X_batch, y_batch in train_loader:\n",
    "        X_batch = X_batch.to(device)\n",
    "        y_batch = y_batch.to(device)\n",
    "\n",
    "        optimizer.zero_grad()\n",
    "        outputs = model(X_batch)\n",
    "        loss = criterion(outputs, y_batch)\n",
    "        loss.backward()\n",
    "        optimizer.step()\n",
    "\n",
    "        total_loss += loss.item()\n",
    "\n",
    "    print(f\"Epoch {epoch+1}/{n_epochs}, Loss: {total_loss/len(train_loader):.4f}\")\n"
   ]
  },
  {
   "cell_type": "code",
   "execution_count": 38,
   "id": "dddfb1248bfaf557",
   "metadata": {
    "ExecuteTime": {
     "end_time": "2025-04-24T09:23:18.326976Z",
     "start_time": "2025-04-24T09:23:18.288711Z"
    }
   },
   "outputs": [],
   "source": [
    "model.eval()\n",
    "predictions = []\n",
    "actuals = []\n",
    "\n",
    "with torch.no_grad():\n",
    "    for X_batch, y_batch in test_loader:\n",
    "        X_batch = X_batch.to(device)\n",
    "        y_batch = y_batch.to(device)\n",
    "\n",
    "        output = model(X_batch)\n",
    "        predictions.extend(output.cpu().numpy())\n",
    "        actuals.extend(y_batch.cpu().numpy())\n"
   ]
  },
  {
   "cell_type": "code",
   "execution_count": 39,
   "id": "db6c264e94c38d53",
   "metadata": {
    "ExecuteTime": {
     "end_time": "2025-04-24T09:23:18.422554Z",
     "start_time": "2025-04-24T09:23:18.418532Z"
    }
   },
   "outputs": [],
   "source": [
    "predictions_flat = np.array(predictions).reshape(-1)\n",
    "actuals_flat = np.array(actuals).reshape(-1)"
   ]
  },
  {
   "cell_type": "code",
   "execution_count": 40,
   "id": "fb5780ea9c6418a0",
   "metadata": {
    "ExecuteTime": {
     "end_time": "2025-04-24T09:23:18.735984Z",
     "start_time": "2025-04-24T09:23:18.540338Z"
    }
   },
   "outputs": [
    {
     "data": {
      "image/png": "[encoded data removed]",
      "text/plain": [
       "<Figure size 1200x600 with 1 Axes>"
      ]
     },
     "metadata": {},
     "output_type": "display_data"
    }
   ],
   "source": [
    "plt.figure(figsize=(12, 6))\n",
    "plt.plot(actuals_flat, label=\"Actual USD\")\n",
    "plt.plot(predictions_flat, label=\"Predicted USD\")\n",
    "plt.legend()\n",
    "plt.title(\"LSTM Forecasting\")\n",
    "plt.xlabel(\"Time\")\n",
    "plt.ylabel(\"USD Value\")\n",
    "plt.grid(True)\n",
    "plt.show()"
   ]
  },
  {
   "cell_type": "code",
   "execution_count": 41,
   "id": "746761e9fb340454",
   "metadata": {
    "ExecuteTime": {
     "end_time": "2025-04-24T09:23:18.837052Z",
     "start_time": "2025-04-24T09:23:18.822654Z"
    }
   },
   "outputs": [
    {
     "data": {
      "text/html": [
       "<div>\n",
       "<style scoped>\n",
       "    .dataframe tbody tr th:only-of-type {\n",
       "        vertical-align: middle;\n",
       "    }\n",
       "\n",
       "    .dataframe tbody tr th {\n",
       "        vertical-align: top;\n",
       "    }\n",
       "\n",
       "    .dataframe thead th {\n",
       "        text-align: right;\n",
       "    }\n",
       "</style>\n",
       "<table border=\"1\" class=\"dataframe\">\n",
       "  <thead>\n",
       "    <tr style=\"text-align: right;\">\n",
       "      <th></th>\n",
       "      <th>USD</th>\n",
       "      <th>USD(t-1)</th>\n",
       "      <th>USD(t-2)</th>\n",
       "      <th>USD(t-3)</th>\n",
       "      <th>USD(t-4)</th>\n",
       "      <th>USD(t-5)</th>\n",
       "      <th>USD(t-6)</th>\n",
       "      <th>USD(t-7)</th>\n",
       "      <th>USD(t-8)</th>\n",
       "      <th>USD(t-9)</th>\n",
       "      <th>USD(t-10)</th>\n",
       "      <th>USD(t-11)</th>\n",
       "      <th>USD(t-12)</th>\n",
       "      <th>USD(t-13)</th>\n",
       "      <th>USD(t-14)</th>\n",
       "      <th>USD(t-15)</th>\n",
       "    </tr>\n",
       "    <tr>\n",
       "      <th>Date</th>\n",
       "      <th></th>\n",
       "      <th></th>\n",
       "      <th></th>\n",
       "      <th></th>\n",
       "      <th></th>\n",
       "      <th></th>\n",
       "      <th></th>\n",
       "      <th></th>\n",
       "      <th></th>\n",
       "      <th></th>\n",
       "      <th></th>\n",
       "      <th></th>\n",
       "      <th></th>\n",
       "      <th></th>\n",
       "      <th></th>\n",
       "      <th></th>\n",
       "    </tr>\n",
       "  </thead>\n",
       "  <tbody>\n",
       "    <tr>\n",
       "      <th>2000-01-16</th>\n",
       "      <td>139.40</td>\n",
       "      <td>139.40</td>\n",
       "      <td>138.95</td>\n",
       "      <td>138.95</td>\n",
       "      <td>138.95</td>\n",
       "      <td>138.70</td>\n",
       "      <td>138.70</td>\n",
       "      <td>138.70</td>\n",
       "      <td>138.70</td>\n",
       "      <td>138.20</td>\n",
       "      <td>138.20</td>\n",
       "      <td>138.20</td>\n",
       "      <td>138.20</td>\n",
       "      <td>138.20</td>\n",
       "      <td>138.20</td>\n",
       "      <td>138.20</td>\n",
       "    </tr>\n",
       "    <tr>\n",
       "      <th>2000-01-17</th>\n",
       "      <td>139.40</td>\n",
       "      <td>139.40</td>\n",
       "      <td>139.40</td>\n",
       "      <td>138.95</td>\n",
       "      <td>138.95</td>\n",
       "      <td>138.95</td>\n",
       "      <td>138.70</td>\n",
       "      <td>138.70</td>\n",
       "      <td>138.70</td>\n",
       "      <td>138.70</td>\n",
       "      <td>138.20</td>\n",
       "      <td>138.20</td>\n",
       "      <td>138.20</td>\n",
       "      <td>138.20</td>\n",
       "      <td>138.20</td>\n",
       "      <td>138.20</td>\n",
       "    </tr>\n",
       "    <tr>\n",
       "      <th>2000-01-18</th>\n",
       "      <td>139.40</td>\n",
       "      <td>139.40</td>\n",
       "      <td>139.40</td>\n",
       "      <td>139.40</td>\n",
       "      <td>138.95</td>\n",
       "      <td>138.95</td>\n",
       "      <td>138.95</td>\n",
       "      <td>138.70</td>\n",
       "      <td>138.70</td>\n",
       "      <td>138.70</td>\n",
       "      <td>138.70</td>\n",
       "      <td>138.20</td>\n",
       "      <td>138.20</td>\n",
       "      <td>138.20</td>\n",
       "      <td>138.20</td>\n",
       "      <td>138.20</td>\n",
       "    </tr>\n",
       "    <tr>\n",
       "      <th>2000-01-19</th>\n",
       "      <td>139.50</td>\n",
       "      <td>139.40</td>\n",
       "      <td>139.40</td>\n",
       "      <td>139.40</td>\n",
       "      <td>139.40</td>\n",
       "      <td>138.95</td>\n",
       "      <td>138.95</td>\n",
       "      <td>138.95</td>\n",
       "      <td>138.70</td>\n",
       "      <td>138.70</td>\n",
       "      <td>138.70</td>\n",
       "      <td>138.70</td>\n",
       "      <td>138.20</td>\n",
       "      <td>138.20</td>\n",
       "      <td>138.20</td>\n",
       "      <td>138.20</td>\n",
       "    </tr>\n",
       "    <tr>\n",
       "      <th>2000-01-20</th>\n",
       "      <td>139.50</td>\n",
       "      <td>139.50</td>\n",
       "      <td>139.40</td>\n",
       "      <td>139.40</td>\n",
       "      <td>139.40</td>\n",
       "      <td>139.40</td>\n",
       "      <td>138.95</td>\n",
       "      <td>138.95</td>\n",
       "      <td>138.95</td>\n",
       "      <td>138.70</td>\n",
       "      <td>138.70</td>\n",
       "      <td>138.70</td>\n",
       "      <td>138.70</td>\n",
       "      <td>138.20</td>\n",
       "      <td>138.20</td>\n",
       "      <td>138.20</td>\n",
       "    </tr>\n",
       "    <tr>\n",
       "      <th>...</th>\n",
       "      <td>...</td>\n",
       "      <td>...</td>\n",
       "      <td>...</td>\n",
       "      <td>...</td>\n",
       "      <td>...</td>\n",
       "      <td>...</td>\n",
       "      <td>...</td>\n",
       "      <td>...</td>\n",
       "      <td>...</td>\n",
       "      <td>...</td>\n",
       "      <td>...</td>\n",
       "      <td>...</td>\n",
       "      <td>...</td>\n",
       "      <td>...</td>\n",
       "      <td>...</td>\n",
       "      <td>...</td>\n",
       "    </tr>\n",
       "    <tr>\n",
       "      <th>2024-12-03</th>\n",
       "      <td>524.58</td>\n",
       "      <td>511.22</td>\n",
       "      <td>511.22</td>\n",
       "      <td>511.22</td>\n",
       "      <td>513.00</td>\n",
       "      <td>499.51</td>\n",
       "      <td>498.55</td>\n",
       "      <td>498.51</td>\n",
       "      <td>498.34</td>\n",
       "      <td>498.34</td>\n",
       "      <td>498.34</td>\n",
       "      <td>494.87</td>\n",
       "      <td>495.20</td>\n",
       "      <td>497.26</td>\n",
       "      <td>497.89</td>\n",
       "      <td>495.95</td>\n",
       "    </tr>\n",
       "    <tr>\n",
       "      <th>2024-12-04</th>\n",
       "      <td>523.17</td>\n",
       "      <td>524.58</td>\n",
       "      <td>511.22</td>\n",
       "      <td>511.22</td>\n",
       "      <td>511.22</td>\n",
       "      <td>513.00</td>\n",
       "      <td>499.51</td>\n",
       "      <td>498.55</td>\n",
       "      <td>498.51</td>\n",
       "      <td>498.34</td>\n",
       "      <td>498.34</td>\n",
       "      <td>498.34</td>\n",
       "      <td>494.87</td>\n",
       "      <td>495.20</td>\n",
       "      <td>497.26</td>\n",
       "      <td>497.89</td>\n",
       "    </tr>\n",
       "    <tr>\n",
       "      <th>2024-12-05</th>\n",
       "      <td>523.58</td>\n",
       "      <td>523.17</td>\n",
       "      <td>524.58</td>\n",
       "      <td>511.22</td>\n",
       "      <td>511.22</td>\n",
       "      <td>511.22</td>\n",
       "      <td>513.00</td>\n",
       "      <td>499.51</td>\n",
       "      <td>498.55</td>\n",
       "      <td>498.51</td>\n",
       "      <td>498.34</td>\n",
       "      <td>498.34</td>\n",
       "      <td>498.34</td>\n",
       "      <td>494.87</td>\n",
       "      <td>495.20</td>\n",
       "      <td>497.26</td>\n",
       "    </tr>\n",
       "    <tr>\n",
       "      <th>2024-12-06</th>\n",
       "      <td>524.65</td>\n",
       "      <td>523.58</td>\n",
       "      <td>523.17</td>\n",
       "      <td>524.58</td>\n",
       "      <td>511.22</td>\n",
       "      <td>511.22</td>\n",
       "      <td>511.22</td>\n",
       "      <td>513.00</td>\n",
       "      <td>499.51</td>\n",
       "      <td>498.55</td>\n",
       "      <td>498.51</td>\n",
       "      <td>498.34</td>\n",
       "      <td>498.34</td>\n",
       "      <td>498.34</td>\n",
       "      <td>494.87</td>\n",
       "      <td>495.20</td>\n",
       "    </tr>\n",
       "    <tr>\n",
       "      <th>2024-12-07</th>\n",
       "      <td>514.65</td>\n",
       "      <td>524.65</td>\n",
       "      <td>523.58</td>\n",
       "      <td>523.17</td>\n",
       "      <td>524.58</td>\n",
       "      <td>511.22</td>\n",
       "      <td>511.22</td>\n",
       "      <td>511.22</td>\n",
       "      <td>513.00</td>\n",
       "      <td>499.51</td>\n",
       "      <td>498.55</td>\n",
       "      <td>498.51</td>\n",
       "      <td>498.34</td>\n",
       "      <td>498.34</td>\n",
       "      <td>498.34</td>\n",
       "      <td>494.87</td>\n",
       "    </tr>\n",
       "  </tbody>\n",
       "</table>\n",
       "<p>9071 rows × 16 columns</p>\n",
       "</div>"
      ],
      "text/plain": [
       "               USD  USD(t-1)  USD(t-2)  USD(t-3)  USD(t-4)  USD(t-5)  \\\n",
       "Date                                                                   \n",
       "2000-01-16  139.40    139.40    138.95    138.95    138.95    138.70   \n",
       "2000-01-17  139.40    139.40    139.40    138.95    138.95    138.95   \n",
       "2000-01-18  139.40    139.40    139.40    139.40    138.95    138.95   \n",
       "2000-01-19  139.50    139.40    139.40    139.40    139.40    138.95   \n",
       "2000-01-20  139.50    139.50    139.40    139.40    139.40    139.40   \n",
       "...            ...       ...       ...       ...       ...       ...   \n",
       "2024-12-03  524.58    511.22    511.22    511.22    513.00    499.51   \n",
       "2024-12-04  523.17    524.58    511.22    511.22    511.22    513.00   \n",
       "2024-12-05  523.58    523.17    524.58    511.22    511.22    511.22   \n",
       "2024-12-06  524.65    523.58    523.17    524.58    511.22    511.22   \n",
       "2024-12-07  514.65    524.65    523.58    523.17    524.58    511.22   \n",
       "\n",
       "            USD(t-6)  USD(t-7)  USD(t-8)  USD(t-9)  USD(t-10)  USD(t-11)  \\\n",
       "Date                                                                       \n",
       "2000-01-16    138.70    138.70    138.70    138.20     138.20     138.20   \n",
       "2000-01-17    138.70    138.70    138.70    138.70     138.20     138.20   \n",
       "2000-01-18    138.95    138.70    138.70    138.70     138.70     138.20   \n",
       "2000-01-19    138.95    138.95    138.70    138.70     138.70     138.70   \n",
       "2000-01-20    138.95    138.95    138.95    138.70     138.70     138.70   \n",
       "...              ...       ...       ...       ...        ...        ...   \n",
       "2024-12-03    498.55    498.51    498.34    498.34     498.34     494.87   \n",
       "2024-12-04    499.51    498.55    498.51    498.34     498.34     498.34   \n",
       "2024-12-05    513.00    499.51    498.55    498.51     498.34     498.34   \n",
       "2024-12-06    511.22    513.00    499.51    498.55     498.51     498.34   \n",
       "2024-12-07    511.22    511.22    513.00    499.51     498.55     498.51   \n",
       "\n",
       "            USD(t-12)  USD(t-13)  USD(t-14)  USD(t-15)  \n",
       "Date                                                    \n",
       "2000-01-16     138.20     138.20     138.20     138.20  \n",
       "2000-01-17     138.20     138.20     138.20     138.20  \n",
       "2000-01-18     138.20     138.20     138.20     138.20  \n",
       "2000-01-19     138.20     138.20     138.20     138.20  \n",
       "2000-01-20     138.70     138.20     138.20     138.20  \n",
       "...               ...        ...        ...        ...  \n",
       "2024-12-03     495.20     497.26     497.89     495.95  \n",
       "2024-12-04     494.87     495.20     497.26     497.89  \n",
       "2024-12-05     498.34     494.87     495.20     497.26  \n",
       "2024-12-06     498.34     498.34     494.87     495.20  \n",
       "2024-12-07     498.34     498.34     498.34     494.87  \n",
       "\n",
       "[9071 rows x 16 columns]"
      ]
     },
     "execution_count": 41,
     "metadata": {},
     "output_type": "execute_result"
    }
   ],
   "source": [
    "data"
   ]
  },
  {
   "cell_type": "code",
   "execution_count": null,
   "id": "bc7682522712e88f",
   "metadata": {},
   "outputs": [],
   "source": []
  }
 ],
 "metadata": {
  "kernelspec": {
   "display_name": "venv",
   "language": "python",
   "name": "python3"
  },
  "language_info": {
   "codemirror_mode": {
    "name": "ipython",
    "version": 3
   },
   "file_extension": ".py",
   "mimetype": "text/x-python",
   "name": "python",
   "nbconvert_exporter": "python",
   "pygments_lexer": "ipython3",
   "version": "3.12.3"
  }
 },
 "nbformat": 4,
 "nbformat_minor": 5
}
