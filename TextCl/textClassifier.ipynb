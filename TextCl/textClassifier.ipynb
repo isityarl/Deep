{
 "cells": [
  {
   "cell_type": "code",
   "execution_count": 1,
   "id": "initial_id",
   "metadata": {
    "ExecuteTime": {
     "end_time": "2025-05-13T17:40:54.179407Z",
     "start_time": "2025-05-13T17:40:53.888543Z"
    },
    "collapsed": true
   },
   "outputs": [],
   "source": [
    "import os\n",
    "import pandas as pd"
   ]
  },
  {
   "cell_type": "code",
   "execution_count": 2,
   "id": "3f0e3354890ae712",
   "metadata": {
    "ExecuteTime": {
     "end_time": "2025-05-13T17:40:55.575293Z",
     "start_time": "2025-05-13T17:40:55.508866Z"
    }
   },
   "outputs": [],
   "source": [
    "directory = \"Reviews/\"\n",
    "merged_file = os.path.join(directory, \"Reviews.csv\")\n",
    "\n",
    "header_written = False\n",
    "\n",
    "for filename in os.listdir(directory):\n",
    "    if filename.endswith(\".csv\"):\n",
    "        file_path = os.path.join(directory, filename)\n",
    "\n",
    "        ax = pd.read_csv(file_path)\n",
    "\n",
    "        if ax.shape[1] == 3:\n",
    "            ax = ax.drop(ax.columns[0], axis=1)\n",
    "\n",
    "        ax.columns = ['Review', 'Label']\n",
    "\n",
    "        ax.to_csv(merged_file, mode='a', index=False, header=not header_written)\n",
    "        header_written = True"
   ]
  },
  {
   "cell_type": "code",
   "execution_count": 3,
   "id": "b2b3ebcb8a314c0d",
   "metadata": {
    "ExecuteTime": {
     "end_time": "2025-05-13T17:40:56.439537Z",
     "start_time": "2025-05-13T17:40:56.407108Z"
    }
   },
   "outputs": [
    {
     "data": {
      "text/plain": [
       "(12618, 2)"
      ]
     },
     "execution_count": 3,
     "metadata": {},
     "output_type": "execute_result"
    }
   ],
   "source": [
    "all = pd.read_csv('Reviews/Reviews.csv')\n",
    "all.shape"
   ]
  },
  {
   "cell_type": "code",
   "execution_count": 200,
   "id": "f190975da19db30",
   "metadata": {
    "ExecuteTime": {
     "end_time": "2025-03-05T22:56:04.476666Z",
     "start_time": "2025-03-05T22:56:04.471345Z"
    }
   },
   "outputs": [
    {
     "data": {
      "text/html": [
       "<div>\n",
       "<style scoped>\n",
       "    .dataframe tbody tr th:only-of-type {\n",
       "        vertical-align: middle;\n",
       "    }\n",
       "\n",
       "    .dataframe tbody tr th {\n",
       "        vertical-align: top;\n",
       "    }\n",
       "\n",
       "    .dataframe thead th {\n",
       "        text-align: right;\n",
       "    }\n",
       "</style>\n",
       "<table border=\"1\" class=\"dataframe\">\n",
       "  <thead>\n",
       "    <tr style=\"text-align: right;\">\n",
       "      <th></th>\n",
       "      <th>Review</th>\n",
       "      <th>Label</th>\n",
       "    </tr>\n",
       "  </thead>\n",
       "  <tbody>\n",
       "    <tr>\n",
       "      <th>0</th>\n",
       "      <td>фотоға адемы жер</td>\n",
       "      <td>positive</td>\n",
       "    </tr>\n",
       "    <tr>\n",
       "      <th>1</th>\n",
       "      <td>Очень круто но очередь большая</td>\n",
       "      <td>positive</td>\n",
       "    </tr>\n",
       "    <tr>\n",
       "      <th>2</th>\n",
       "      <td>Приятное место для прогулок, с мужем часто пос...</td>\n",
       "      <td>positive</td>\n",
       "    </tr>\n",
       "    <tr>\n",
       "      <th>3</th>\n",
       "      <td>❤️😎</td>\n",
       "      <td>positive</td>\n",
       "    </tr>\n",
       "    <tr>\n",
       "      <th>4</th>\n",
       "      <td>Атрикционы мощные прям адреналин😅🔥</td>\n",
       "      <td>positive</td>\n",
       "    </tr>\n",
       "    <tr>\n",
       "      <th>...</th>\n",
       "      <td>...</td>\n",
       "      <td>...</td>\n",
       "    </tr>\n",
       "    <tr>\n",
       "      <th>3211</th>\n",
       "      <td>Если за мясом, то точно в это заведение! Огром...</td>\n",
       "      <td>positive</td>\n",
       "    </tr>\n",
       "    <tr>\n",
       "      <th>3212</th>\n",
       "      <td>Зашел пообедать. Бизнес-ланча нет, ну ладно , ...</td>\n",
       "      <td>negative</td>\n",
       "    </tr>\n",
       "    <tr>\n",
       "      <th>3213</th>\n",
       "      <td>Пришли по рекомендации знакомых, Пробовали реб...</td>\n",
       "      <td>positive</td>\n",
       "    </tr>\n",
       "    <tr>\n",
       "      <th>3214</th>\n",
       "      <td>Невероятно атмосферное место с безумно вкусным...</td>\n",
       "      <td>positive</td>\n",
       "    </tr>\n",
       "    <tr>\n",
       "      <th>3215</th>\n",
       "      <td>Отличное открытие! Еда вкусная, обслуживание о...</td>\n",
       "      <td>positive</td>\n",
       "    </tr>\n",
       "  </tbody>\n",
       "</table>\n",
       "<p>3216 rows × 2 columns</p>\n",
       "</div>"
      ],
      "text/plain": [
       "                                                 Review     Label\n",
       "0                                      фотоға адемы жер  positive\n",
       "1                        Очень круто но очередь большая  positive\n",
       "2     Приятное место для прогулок, с мужем часто пос...  positive\n",
       "3                                                   ❤️😎  positive\n",
       "4                    Атрикционы мощные прям адреналин😅🔥  positive\n",
       "...                                                 ...       ...\n",
       "3211  Если за мясом, то точно в это заведение! Огром...  positive\n",
       "3212  Зашел пообедать. Бизнес-ланча нет, ну ладно , ...  negative\n",
       "3213  Пришли по рекомендации знакомых, Пробовали реб...  positive\n",
       "3214  Невероятно атмосферное место с безумно вкусным...  positive\n",
       "3215  Отличное открытие! Еда вкусная, обслуживание о...  positive\n",
       "\n",
       "[3216 rows x 2 columns]"
      ]
     },
     "execution_count": 200,
     "metadata": {},
     "output_type": "execute_result"
    }
   ],
   "source": [
    "all"
   ]
  },
  {
   "cell_type": "markdown",
   "id": "ffb6ca2ec78f003f",
   "metadata": {},
   "source": [
    "Preprocessing"
   ]
  },
  {
   "cell_type": "code",
   "execution_count": 201,
   "id": "739b31a5d23e0adf",
   "metadata": {
    "ExecuteTime": {
     "end_time": "2025-03-05T22:56:04.843797Z",
     "start_time": "2025-03-05T22:56:04.835538Z"
    }
   },
   "outputs": [
    {
     "data": {
      "text/html": [
       "<div>\n",
       "<style scoped>\n",
       "    .dataframe tbody tr th:only-of-type {\n",
       "        vertical-align: middle;\n",
       "    }\n",
       "\n",
       "    .dataframe tbody tr th {\n",
       "        vertical-align: top;\n",
       "    }\n",
       "\n",
       "    .dataframe thead th {\n",
       "        text-align: right;\n",
       "    }\n",
       "</style>\n",
       "<table border=\"1\" class=\"dataframe\">\n",
       "  <thead>\n",
       "    <tr style=\"text-align: right;\">\n",
       "      <th></th>\n",
       "      <th>Review</th>\n",
       "      <th>Label</th>\n",
       "    </tr>\n",
       "  </thead>\n",
       "  <tbody>\n",
       "    <tr>\n",
       "      <th>0</th>\n",
       "      <td>фотоға адемы жер</td>\n",
       "      <td>positive</td>\n",
       "    </tr>\n",
       "    <tr>\n",
       "      <th>1</th>\n",
       "      <td>Очень круто но очередь большая</td>\n",
       "      <td>positive</td>\n",
       "    </tr>\n",
       "    <tr>\n",
       "      <th>2</th>\n",
       "      <td>Приятное место для прогулок, с мужем часто пос...</td>\n",
       "      <td>positive</td>\n",
       "    </tr>\n",
       "    <tr>\n",
       "      <th>3</th>\n",
       "      <td>❤️😎</td>\n",
       "      <td>positive</td>\n",
       "    </tr>\n",
       "    <tr>\n",
       "      <th>4</th>\n",
       "      <td>Атрикционы мощные прям адреналин😅🔥</td>\n",
       "      <td>positive</td>\n",
       "    </tr>\n",
       "    <tr>\n",
       "      <th>...</th>\n",
       "      <td>...</td>\n",
       "      <td>...</td>\n",
       "    </tr>\n",
       "    <tr>\n",
       "      <th>3211</th>\n",
       "      <td>Если за мясом, то точно в это заведение! Огром...</td>\n",
       "      <td>positive</td>\n",
       "    </tr>\n",
       "    <tr>\n",
       "      <th>3212</th>\n",
       "      <td>Зашел пообедать. Бизнес-ланча нет, ну ладно , ...</td>\n",
       "      <td>negative</td>\n",
       "    </tr>\n",
       "    <tr>\n",
       "      <th>3213</th>\n",
       "      <td>Пришли по рекомендации знакомых, Пробовали реб...</td>\n",
       "      <td>positive</td>\n",
       "    </tr>\n",
       "    <tr>\n",
       "      <th>3214</th>\n",
       "      <td>Невероятно атмосферное место с безумно вкусным...</td>\n",
       "      <td>positive</td>\n",
       "    </tr>\n",
       "    <tr>\n",
       "      <th>3215</th>\n",
       "      <td>Отличное открытие! Еда вкусная, обслуживание о...</td>\n",
       "      <td>positive</td>\n",
       "    </tr>\n",
       "  </tbody>\n",
       "</table>\n",
       "<p>3216 rows × 2 columns</p>\n",
       "</div>"
      ],
      "text/plain": [
       "                                                 Review     Label\n",
       "0                                      фотоға адемы жер  positive\n",
       "1                        Очень круто но очередь большая  positive\n",
       "2     Приятное место для прогулок, с мужем часто пос...  positive\n",
       "3                                                   ❤️😎  positive\n",
       "4                    Атрикционы мощные прям адреналин😅🔥  positive\n",
       "...                                                 ...       ...\n",
       "3211  Если за мясом, то точно в это заведение! Огром...  positive\n",
       "3212  Зашел пообедать. Бизнес-ланча нет, ну ладно , ...  negative\n",
       "3213  Пришли по рекомендации знакомых, Пробовали реб...  positive\n",
       "3214  Невероятно атмосферное место с безумно вкусным...  positive\n",
       "3215  Отличное открытие! Еда вкусная, обслуживание о...  positive\n",
       "\n",
       "[3216 rows x 2 columns]"
      ]
     },
     "execution_count": 201,
     "metadata": {},
     "output_type": "execute_result"
    }
   ],
   "source": [
    "all['Label'] = all['Label'].str.strip().str.lower()\n",
    "\n",
    "label_mapping = {\n",
    "    \"good\": \"positive\",\n",
    "    \"bad\": \"negative\"\n",
    "}\n",
    "all['Label'] = all['Label'].replace(label_mapping)\n",
    "all"
   ]
  },
  {
   "cell_type": "code",
   "execution_count": 202,
   "id": "256553ebbaa07ead",
   "metadata": {
    "ExecuteTime": {
     "end_time": "2025-03-05T22:56:05.061488Z",
     "start_time": "2025-03-05T22:56:05.058305Z"
    }
   },
   "outputs": [
    {
     "name": "stdout",
     "output_type": "stream",
     "text": [
      "['positive' 'neutral' 'negative']\n"
     ]
    }
   ],
   "source": [
    "print(all[\"Label\"].unique())\n"
   ]
  },
  {
   "cell_type": "code",
   "execution_count": 203,
   "id": "2c543d28dd686c22",
   "metadata": {
    "ExecuteTime": {
     "end_time": "2025-03-05T22:56:06.010018Z",
     "start_time": "2025-03-05T22:56:06.005788Z"
    }
   },
   "outputs": [],
   "source": [
    "valid_labels = {\"positive\", \"neutral\", \"negative\"}\n",
    "all = all[all[\"Label\"].isin(valid_labels)]"
   ]
  },
  {
   "cell_type": "code",
   "execution_count": 204,
   "id": "f2cdcf9b3a9e034",
   "metadata": {
    "ExecuteTime": {
     "end_time": "2025-03-05T22:56:06.673217Z",
     "start_time": "2025-03-05T22:56:06.661523Z"
    }
   },
   "outputs": [
    {
     "data": {
      "text/html": [
       "<div>\n",
       "<style scoped>\n",
       "    .dataframe tbody tr th:only-of-type {\n",
       "        vertical-align: middle;\n",
       "    }\n",
       "\n",
       "    .dataframe tbody tr th {\n",
       "        vertical-align: top;\n",
       "    }\n",
       "\n",
       "    .dataframe thead th {\n",
       "        text-align: right;\n",
       "    }\n",
       "</style>\n",
       "<table border=\"1\" class=\"dataframe\">\n",
       "  <thead>\n",
       "    <tr style=\"text-align: right;\">\n",
       "      <th></th>\n",
       "      <th>emoji</th>\n",
       "      <th>code_points</th>\n",
       "      <th>category</th>\n",
       "      <th>description</th>\n",
       "    </tr>\n",
       "  </thead>\n",
       "  <tbody>\n",
       "    <tr>\n",
       "      <th>0</th>\n",
       "      <td>⏰</td>\n",
       "      <td>23F0</td>\n",
       "      <td>Basic_Emoji</td>\n",
       "      <td>alarm clock</td>\n",
       "    </tr>\n",
       "    <tr>\n",
       "      <th>1</th>\n",
       "      <td>⏳</td>\n",
       "      <td>23F3</td>\n",
       "      <td>Basic_Emoji</td>\n",
       "      <td>hourglass not done</td>\n",
       "    </tr>\n",
       "    <tr>\n",
       "      <th>2</th>\n",
       "      <td>♿</td>\n",
       "      <td>267F</td>\n",
       "      <td>Basic_Emoji</td>\n",
       "      <td>wheelchair symbol</td>\n",
       "    </tr>\n",
       "  </tbody>\n",
       "</table>\n",
       "</div>"
      ],
      "text/plain": [
       "  emoji     code_points     category         description\n",
       "0     ⏰  23F0            Basic_Emoji         alarm clock\n",
       "1     ⏳  23F3            Basic_Emoji  hourglass not done\n",
       "2     ♿  267F            Basic_Emoji   wheelchair symbol"
      ]
     },
     "execution_count": 204,
     "metadata": {},
     "output_type": "execute_result"
    }
   ],
   "source": [
    "emo1 = pd.read_csv('emojiData/1.csv')\n",
    "emo1.head(3)"
   ]
  },
  {
   "cell_type": "code",
   "execution_count": 205,
   "id": "97b2cfcf7116fecc",
   "metadata": {
    "ExecuteTime": {
     "end_time": "2025-03-05T22:56:08.640899Z",
     "start_time": "2025-03-05T22:56:08.621371Z"
    }
   },
   "outputs": [
    {
     "data": {
      "text/html": [
       "<div>\n",
       "<style scoped>\n",
       "    .dataframe tbody tr th:only-of-type {\n",
       "        vertical-align: middle;\n",
       "    }\n",
       "\n",
       "    .dataframe tbody tr th {\n",
       "        vertical-align: top;\n",
       "    }\n",
       "\n",
       "    .dataframe thead th {\n",
       "        text-align: right;\n",
       "    }\n",
       "</style>\n",
       "<table border=\"1\" class=\"dataframe\">\n",
       "  <thead>\n",
       "    <tr style=\"text-align: right;\">\n",
       "      <th></th>\n",
       "      <th>emoji</th>\n",
       "      <th>code_points</th>\n",
       "      <th>status</th>\n",
       "      <th>name</th>\n",
       "    </tr>\n",
       "  </thead>\n",
       "  <tbody>\n",
       "    <tr>\n",
       "      <th>0</th>\n",
       "      <td>😀</td>\n",
       "      <td>1F600                                         ...</td>\n",
       "      <td>fully-qualified</td>\n",
       "      <td>grinning face</td>\n",
       "    </tr>\n",
       "    <tr>\n",
       "      <th>1</th>\n",
       "      <td>😃</td>\n",
       "      <td>1F603                                         ...</td>\n",
       "      <td>fully-qualified</td>\n",
       "      <td>grinning face with big eyes</td>\n",
       "    </tr>\n",
       "    <tr>\n",
       "      <th>2</th>\n",
       "      <td>😄</td>\n",
       "      <td>1F604                                         ...</td>\n",
       "      <td>fully-qualified</td>\n",
       "      <td>grinning face with smiling eyes</td>\n",
       "    </tr>\n",
       "  </tbody>\n",
       "</table>\n",
       "</div>"
      ],
      "text/plain": [
       "  emoji                                        code_points           status  \\\n",
       "0     😀  1F600                                         ...  fully-qualified   \n",
       "1     😃  1F603                                         ...  fully-qualified   \n",
       "2     😄  1F604                                         ...  fully-qualified   \n",
       "\n",
       "                              name  \n",
       "0                    grinning face  \n",
       "1      grinning face with big eyes  \n",
       "2  grinning face with smiling eyes  "
      ]
     },
     "execution_count": 205,
     "metadata": {},
     "output_type": "execute_result"
    }
   ],
   "source": [
    "emo2 = pd.read_csv('emojiData/2.csv')\n",
    "emo2.head(3)"
   ]
  },
  {
   "cell_type": "code",
   "execution_count": 206,
   "id": "a1c93242196285d3",
   "metadata": {
    "ExecuteTime": {
     "end_time": "2025-03-05T22:56:08.807235Z",
     "start_time": "2025-03-05T22:56:08.797591Z"
    }
   },
   "outputs": [
    {
     "data": {
      "text/html": [
       "<div>\n",
       "<style scoped>\n",
       "    .dataframe tbody tr th:only-of-type {\n",
       "        vertical-align: middle;\n",
       "    }\n",
       "\n",
       "    .dataframe tbody tr th {\n",
       "        vertical-align: top;\n",
       "    }\n",
       "\n",
       "    .dataframe thead th {\n",
       "        text-align: right;\n",
       "    }\n",
       "</style>\n",
       "<table border=\"1\" class=\"dataframe\">\n",
       "  <thead>\n",
       "    <tr style=\"text-align: right;\">\n",
       "      <th></th>\n",
       "      <th>emoji</th>\n",
       "      <th>code_points</th>\n",
       "      <th>description</th>\n",
       "    </tr>\n",
       "  </thead>\n",
       "  <tbody>\n",
       "    <tr>\n",
       "      <th>0</th>\n",
       "      <td>👨‍❤️‍👨</td>\n",
       "      <td>1F468 200D 2764 FE0F 200D 1F468</td>\n",
       "      <td>couple with heart: man, man</td>\n",
       "    </tr>\n",
       "    <tr>\n",
       "      <th>1</th>\n",
       "      <td>👨‍❤️‍💋‍👨</td>\n",
       "      <td>1F468 200D 2764 FE0F 200D 1F48B 200D 1F468</td>\n",
       "      <td>kiss: man, man</td>\n",
       "    </tr>\n",
       "    <tr>\n",
       "      <th>2</th>\n",
       "      <td>👨‍👦</td>\n",
       "      <td>1F468 200D 1F466</td>\n",
       "      <td>family: man, boy</td>\n",
       "    </tr>\n",
       "  </tbody>\n",
       "</table>\n",
       "</div>"
      ],
      "text/plain": [
       "      emoji                                   code_points  \\\n",
       "0    👨‍❤️‍👨  1F468 200D 2764 FE0F 200D 1F468                \n",
       "1  👨‍❤️‍💋‍👨  1F468 200D 2764 FE0F 200D 1F48B 200D 1F468     \n",
       "2       👨‍👦  1F468 200D 1F466                               \n",
       "\n",
       "                   description  \n",
       "0  couple with heart: man, man  \n",
       "1               kiss: man, man  \n",
       "2             family: man, boy  "
      ]
     },
     "execution_count": 206,
     "metadata": {},
     "output_type": "execute_result"
    }
   ],
   "source": [
    "emo3 = pd.read_csv('emojiData/3.csv')\n",
    "emo3.head(3)"
   ]
  },
  {
   "cell_type": "code",
   "execution_count": 207,
   "id": "342c664c3871e753",
   "metadata": {
    "ExecuteTime": {
     "end_time": "2025-03-05T22:56:10.119607Z",
     "start_time": "2025-03-05T22:56:10.110763Z"
    }
   },
   "outputs": [],
   "source": [
    "emo1 = emo1[[\"emoji\", \"code_points\", \"description\"]]\n",
    "emo2 = emo2.rename(columns={\"name\": \"description\"})[[\"emoji\", \"code_points\", \"description\"]]\n",
    "emo3 = emo3[[\"emoji\", \"code_points\", \"description\"]]"
   ]
  },
  {
   "cell_type": "code",
   "execution_count": 208,
   "id": "279a3ce97ea4553c",
   "metadata": {
    "ExecuteTime": {
     "end_time": "2025-03-05T22:56:10.367700Z",
     "start_time": "2025-03-05T22:56:10.351522Z"
    }
   },
   "outputs": [],
   "source": [
    "merge = pd.concat([emo1, emo2, emo3], ignore_index=True).drop_duplicates(subset=['emoji'], keep='first')\n",
    "merge = merge.groupby(\"emoji\", as_index=False).first()"
   ]
  },
  {
   "cell_type": "code",
   "execution_count": 209,
   "id": "b90c51ff9f0c0a9b",
   "metadata": {
    "ExecuteTime": {
     "end_time": "2025-03-05T22:56:10.917482Z",
     "start_time": "2025-03-05T22:56:10.911673Z"
    }
   },
   "outputs": [
    {
     "data": {
      "text/plain": [
       "Index(['emoji', 'code_points', 'description'], dtype='object')"
      ]
     },
     "execution_count": 209,
     "metadata": {},
     "output_type": "execute_result"
    }
   ],
   "source": [
    "merge.columns"
   ]
  },
  {
   "cell_type": "code",
   "execution_count": 210,
   "id": "4b624bab0a2b818c",
   "metadata": {
    "ExecuteTime": {
     "end_time": "2025-03-05T22:56:11.429935Z",
     "start_time": "2025-03-05T22:56:11.415961Z"
    }
   },
   "outputs": [
    {
     "data": {
      "text/html": [
       "<div>\n",
       "<style scoped>\n",
       "    .dataframe tbody tr th:only-of-type {\n",
       "        vertical-align: middle;\n",
       "    }\n",
       "\n",
       "    .dataframe tbody tr th {\n",
       "        vertical-align: top;\n",
       "    }\n",
       "\n",
       "    .dataframe thead th {\n",
       "        text-align: right;\n",
       "    }\n",
       "</style>\n",
       "<table border=\"1\" class=\"dataframe\">\n",
       "  <thead>\n",
       "    <tr style=\"text-align: right;\">\n",
       "      <th></th>\n",
       "      <th>emoji</th>\n",
       "      <th>code_points</th>\n",
       "      <th>description</th>\n",
       "    </tr>\n",
       "  </thead>\n",
       "  <tbody>\n",
       "    <tr>\n",
       "      <th>0</th>\n",
       "      <td>#⃣</td>\n",
       "      <td>0023 20E3                                     ...</td>\n",
       "      <td>keycap:_#</td>\n",
       "    </tr>\n",
       "    <tr>\n",
       "      <th>1</th>\n",
       "      <td>#️⃣</td>\n",
       "      <td>0023 FE0F 20E3</td>\n",
       "      <td>keycap:_\\x{23}</td>\n",
       "    </tr>\n",
       "    <tr>\n",
       "      <th>2</th>\n",
       "      <td>*⃣</td>\n",
       "      <td>002A 20E3                                     ...</td>\n",
       "      <td>keycap:_*</td>\n",
       "    </tr>\n",
       "    <tr>\n",
       "      <th>3</th>\n",
       "      <td>*️⃣</td>\n",
       "      <td>002A FE0F 20E3</td>\n",
       "      <td>keycap:_*</td>\n",
       "    </tr>\n",
       "    <tr>\n",
       "      <th>4</th>\n",
       "      <td>0⃣</td>\n",
       "      <td>0030 20E3                                     ...</td>\n",
       "      <td>keycap:_0</td>\n",
       "    </tr>\n",
       "    <tr>\n",
       "      <th>...</th>\n",
       "      <td>...</td>\n",
       "      <td>...</td>\n",
       "      <td>...</td>\n",
       "    </tr>\n",
       "    <tr>\n",
       "      <th>5037</th>\n",
       "      <td>🫸🏻</td>\n",
       "      <td>1FAF8 1F3FB</td>\n",
       "      <td>rightwards_pushing_hand:_light_skin_tone</td>\n",
       "    </tr>\n",
       "    <tr>\n",
       "      <th>5038</th>\n",
       "      <td>🫸🏼</td>\n",
       "      <td>1FAF8 1F3FC</td>\n",
       "      <td>rightwards_pushing_hand:_medium-light_skin_tone</td>\n",
       "    </tr>\n",
       "    <tr>\n",
       "      <th>5039</th>\n",
       "      <td>🫸🏽</td>\n",
       "      <td>1FAF8 1F3FD</td>\n",
       "      <td>rightwards_pushing_hand:_medium_skin_tone</td>\n",
       "    </tr>\n",
       "    <tr>\n",
       "      <th>5040</th>\n",
       "      <td>🫸🏾</td>\n",
       "      <td>1FAF8 1F3FE</td>\n",
       "      <td>rightwards_pushing_hand:_medium-dark_skin_tone</td>\n",
       "    </tr>\n",
       "    <tr>\n",
       "      <th>5041</th>\n",
       "      <td>🫸🏿</td>\n",
       "      <td>1FAF8 1F3FF</td>\n",
       "      <td>rightwards_pushing_hand:_dark_skin_tone</td>\n",
       "    </tr>\n",
       "  </tbody>\n",
       "</table>\n",
       "<p>5042 rows × 3 columns</p>\n",
       "</div>"
      ],
      "text/plain": [
       "     emoji                                        code_points  \\\n",
       "0       #⃣  0023 20E3                                     ...   \n",
       "1      #️⃣                                     0023 FE0F 20E3   \n",
       "2       *⃣  002A 20E3                                     ...   \n",
       "3      *️⃣                                     002A FE0F 20E3   \n",
       "4       0⃣  0030 20E3                                     ...   \n",
       "...    ...                                                ...   \n",
       "5037    🫸🏻                                     1FAF8 1F3FB      \n",
       "5038    🫸🏼                                     1FAF8 1F3FC      \n",
       "5039    🫸🏽                                     1FAF8 1F3FD      \n",
       "5040    🫸🏾                                     1FAF8 1F3FE      \n",
       "5041    🫸🏿                                     1FAF8 1F3FF      \n",
       "\n",
       "                                          description  \n",
       "0                                           keycap:_#  \n",
       "1                                      keycap:_\\x{23}  \n",
       "2                                           keycap:_*  \n",
       "3                                           keycap:_*  \n",
       "4                                           keycap:_0  \n",
       "...                                               ...  \n",
       "5037         rightwards_pushing_hand:_light_skin_tone  \n",
       "5038  rightwards_pushing_hand:_medium-light_skin_tone  \n",
       "5039        rightwards_pushing_hand:_medium_skin_tone  \n",
       "5040   rightwards_pushing_hand:_medium-dark_skin_tone  \n",
       "5041          rightwards_pushing_hand:_dark_skin_tone  \n",
       "\n",
       "[5042 rows x 3 columns]"
      ]
     },
     "execution_count": 210,
     "metadata": {},
     "output_type": "execute_result"
    }
   ],
   "source": [
    "merge[\"description\"] = merge[\"description\"].str.replace(\" \", \"_\")\n",
    "merge"
   ]
  },
  {
   "cell_type": "code",
   "execution_count": 211,
   "id": "3ac0c16e5b7bf9ea",
   "metadata": {
    "ExecuteTime": {
     "end_time": "2025-03-05T22:56:12.716480Z",
     "start_time": "2025-03-05T22:56:12.685736Z"
    }
   },
   "outputs": [],
   "source": [
    "merge.to_csv('all.csv', index=False, encoding='utf-8')"
   ]
  },
  {
   "cell_type": "code",
   "execution_count": 212,
   "id": "36a1088af719257b",
   "metadata": {
    "ExecuteTime": {
     "end_time": "2025-03-05T22:56:16.578857Z",
     "start_time": "2025-03-05T22:56:15.365173Z"
    }
   },
   "outputs": [
    {
     "data": {
      "text/html": [
       "<div>\n",
       "<style scoped>\n",
       "    .dataframe tbody tr th:only-of-type {\n",
       "        vertical-align: middle;\n",
       "    }\n",
       "\n",
       "    .dataframe tbody tr th {\n",
       "        vertical-align: top;\n",
       "    }\n",
       "\n",
       "    .dataframe thead th {\n",
       "        text-align: right;\n",
       "    }\n",
       "</style>\n",
       "<table border=\"1\" class=\"dataframe\">\n",
       "  <thead>\n",
       "    <tr style=\"text-align: right;\">\n",
       "      <th></th>\n",
       "      <th>Review</th>\n",
       "      <th>Label</th>\n",
       "    </tr>\n",
       "  </thead>\n",
       "  <tbody>\n",
       "    <tr>\n",
       "      <th>0</th>\n",
       "      <td>фотоға адемы жер</td>\n",
       "      <td>positive</td>\n",
       "    </tr>\n",
       "    <tr>\n",
       "      <th>1</th>\n",
       "      <td>Очень круто но очередь большая</td>\n",
       "      <td>positive</td>\n",
       "    </tr>\n",
       "    <tr>\n",
       "      <th>2</th>\n",
       "      <td>Приятное место для прогулок, с мужем часто пос...</td>\n",
       "      <td>positive</td>\n",
       "    </tr>\n",
       "    <tr>\n",
       "      <th>3</th>\n",
       "      <td>red_heart ️ smiling_face_with_sunglasses</td>\n",
       "      <td>positive</td>\n",
       "    </tr>\n",
       "    <tr>\n",
       "      <th>4</th>\n",
       "      <td>Атрикционы мощные прям адреналин grinning_face...</td>\n",
       "      <td>positive</td>\n",
       "    </tr>\n",
       "    <tr>\n",
       "      <th>...</th>\n",
       "      <td>...</td>\n",
       "      <td>...</td>\n",
       "    </tr>\n",
       "    <tr>\n",
       "      <th>3211</th>\n",
       "      <td>Если за мясом, то точно в это заведение! Огром...</td>\n",
       "      <td>positive</td>\n",
       "    </tr>\n",
       "    <tr>\n",
       "      <th>3212</th>\n",
       "      <td>Зашел пообедать. Бизнес-ланча нет, ну ладно , ...</td>\n",
       "      <td>negative</td>\n",
       "    </tr>\n",
       "    <tr>\n",
       "      <th>3213</th>\n",
       "      <td>Пришли по рекомендации знакомых, Пробовали реб...</td>\n",
       "      <td>positive</td>\n",
       "    </tr>\n",
       "    <tr>\n",
       "      <th>3214</th>\n",
       "      <td>Невероятно атмосферное место с безумно вкусным...</td>\n",
       "      <td>positive</td>\n",
       "    </tr>\n",
       "    <tr>\n",
       "      <th>3215</th>\n",
       "      <td>Отличное открытие! Еда вкусная, обслуживание о...</td>\n",
       "      <td>positive</td>\n",
       "    </tr>\n",
       "  </tbody>\n",
       "</table>\n",
       "<p>3216 rows × 2 columns</p>\n",
       "</div>"
      ],
      "text/plain": [
       "                                                 Review     Label\n",
       "0                                      фотоға адемы жер  positive\n",
       "1                        Очень круто но очередь большая  positive\n",
       "2     Приятное место для прогулок, с мужем часто пос...  positive\n",
       "3              red_heart ️ smiling_face_with_sunglasses  positive\n",
       "4     Атрикционы мощные прям адреналин grinning_face...  positive\n",
       "...                                                 ...       ...\n",
       "3211  Если за мясом, то точно в это заведение! Огром...  positive\n",
       "3212  Зашел пообедать. Бизнес-ланча нет, ну ладно , ...  negative\n",
       "3213  Пришли по рекомендации знакомых, Пробовали реб...  positive\n",
       "3214  Невероятно атмосферное место с безумно вкусным...  positive\n",
       "3215  Отличное открытие! Еда вкусная, обслуживание о...  positive\n",
       "\n",
       "[3216 rows x 2 columns]"
      ]
     },
     "execution_count": 212,
     "metadata": {},
     "output_type": "execute_result"
    }
   ],
   "source": [
    "emoji_dict = dict(zip(merge['emoji'], merge['description']))\n",
    "\n",
    "def replace_emojis_with_description(text):\n",
    "    if not isinstance(text, str):\n",
    "        return \"\"\n",
    "\n",
    "    for emoji_char, description in emoji_dict.items():\n",
    "        text = text.replace(emoji_char, f\" {description} \")\n",
    "\n",
    "    return text.strip()\n",
    "\n",
    "all['Review'] = all['Review'].apply(replace_emojis_with_description)\n",
    "all"
   ]
  },
  {
   "cell_type": "code",
   "execution_count": 183,
   "id": "7f730fdac2a87411",
   "metadata": {
    "ExecuteTime": {
     "end_time": "2025-03-05T22:09:34.079157Z",
     "start_time": "2025-03-05T22:09:30.811659Z"
    }
   },
   "outputs": [],
   "source": [
    "import torch\n",
    "from collections import Counter\n",
    "from torch.nn.utils.rnn import pad_sequence\n",
    "from sklearn.preprocessing import LabelEncoder\n",
    "\n",
    "def tokenize(text):\n",
    "    return text.lower().split()\n",
    "\n",
    "word_counts = Counter()\n",
    "for text in all['Review']:\n",
    "    word_counts.update(tokenize(text))\n",
    "\n",
    "vocab = {\"<PAD>\": 0, \"<UNK>\": 1}\n",
    "for idx, word in enumerate(word_counts.keys(), start=2):\n",
    "    vocab[word] = idx\n",
    "\n",
    "def numericalize(text):\n",
    "    return torch.tensor([vocab.get(word, vocab[\"<UNK>\"]) for word in tokenize(text)], dtype=torch.long)\n",
    "\n",
    "sequences = [numericalize(text) for text in all['Review']]\n",
    "\n",
    "padded_sequences = pad_sequence(sequences, batch_first=True, padding_value=vocab[\"<PAD>\"])\n",
    "\n",
    "label_encoder = LabelEncoder()\n",
    "labels = torch.tensor(label_encoder.fit_transform(all['Label']), dtype=torch.long)"
   ]
  },
  {
   "cell_type": "code",
   "execution_count": 184,
   "id": "71c52f59e2fdc2ea",
   "metadata": {
    "ExecuteTime": {
     "end_time": "2025-03-05T22:09:36.450513Z",
     "start_time": "2025-03-05T22:09:34.789358Z"
    }
   },
   "outputs": [
    {
     "data": {
      "text/html": [
       "<div>\n",
       "<style scoped>\n",
       "    .dataframe tbody tr th:only-of-type {\n",
       "        vertical-align: middle;\n",
       "    }\n",
       "\n",
       "    .dataframe tbody tr th {\n",
       "        vertical-align: top;\n",
       "    }\n",
       "\n",
       "    .dataframe thead th {\n",
       "        text-align: right;\n",
       "    }\n",
       "</style>\n",
       "<table border=\"1\" class=\"dataframe\">\n",
       "  <thead>\n",
       "    <tr style=\"text-align: right;\">\n",
       "      <th></th>\n",
       "      <th>Numericalized_Review</th>\n",
       "      <th>Encoded_Label</th>\n",
       "    </tr>\n",
       "  </thead>\n",
       "  <tbody>\n",
       "    <tr>\n",
       "      <th>0</th>\n",
       "      <td>[2, 3, 4, 5, 6, 7, 8, 9, 10, 0, 0, 0, 0, 0, 0,...</td>\n",
       "      <td>2</td>\n",
       "    </tr>\n",
       "    <tr>\n",
       "      <th>1</th>\n",
       "      <td>[11, 12, 13, 14, 15, 16, 17, 18, 19, 20, 21, 2...</td>\n",
       "      <td>2</td>\n",
       "    </tr>\n",
       "    <tr>\n",
       "      <th>2</th>\n",
       "      <td>[13, 21, 24, 0, 0, 0, 0, 0, 0, 0, 0, 0, 0, 0, ...</td>\n",
       "      <td>1</td>\n",
       "    </tr>\n",
       "    <tr>\n",
       "      <th>3</th>\n",
       "      <td>[25, 26, 27, 28, 4, 29, 4, 30, 31, 32, 33, 34,...</td>\n",
       "      <td>2</td>\n",
       "    </tr>\n",
       "    <tr>\n",
       "      <th>4</th>\n",
       "      <td>[50, 51, 52, 53, 54, 12, 55, 56, 57, 58, 59, 6...</td>\n",
       "      <td>2</td>\n",
       "    </tr>\n",
       "    <tr>\n",
       "      <th>...</th>\n",
       "      <td>...</td>\n",
       "      <td>...</td>\n",
       "    </tr>\n",
       "    <tr>\n",
       "      <th>136003</th>\n",
       "      <td>[1197, 70, 8707, 651, 120, 107, 259, 2533, 870...</td>\n",
       "      <td>2</td>\n",
       "    </tr>\n",
       "    <tr>\n",
       "      <th>136004</th>\n",
       "      <td>[7479, 8717, 8718, 429, 482, 5127, 55, 125, 87...</td>\n",
       "      <td>0</td>\n",
       "    </tr>\n",
       "    <tr>\n",
       "      <th>136005</th>\n",
       "      <td>[685, 224, 8063, 8726, 6278, 8548, 4, 7911, 54...</td>\n",
       "      <td>2</td>\n",
       "    </tr>\n",
       "    <tr>\n",
       "      <th>136006</th>\n",
       "      <td>[905, 1595, 749, 27, 2508, 6383, 8729, 919, 11...</td>\n",
       "      <td>2</td>\n",
       "    </tr>\n",
       "    <tr>\n",
       "      <th>136007</th>\n",
       "      <td>[954, 7598, 254, 518, 114, 333, 8737, 905, 873...</td>\n",
       "      <td>2</td>\n",
       "    </tr>\n",
       "  </tbody>\n",
       "</table>\n",
       "<p>136008 rows × 2 columns</p>\n",
       "</div>"
      ],
      "text/plain": [
       "                                     Numericalized_Review  Encoded_Label\n",
       "0       [2, 3, 4, 5, 6, 7, 8, 9, 10, 0, 0, 0, 0, 0, 0,...              2\n",
       "1       [11, 12, 13, 14, 15, 16, 17, 18, 19, 20, 21, 2...              2\n",
       "2       [13, 21, 24, 0, 0, 0, 0, 0, 0, 0, 0, 0, 0, 0, ...              1\n",
       "3       [25, 26, 27, 28, 4, 29, 4, 30, 31, 32, 33, 34,...              2\n",
       "4       [50, 51, 52, 53, 54, 12, 55, 56, 57, 58, 59, 6...              2\n",
       "...                                                   ...            ...\n",
       "136003  [1197, 70, 8707, 651, 120, 107, 259, 2533, 870...              2\n",
       "136004  [7479, 8717, 8718, 429, 482, 5127, 55, 125, 87...              0\n",
       "136005  [685, 224, 8063, 8726, 6278, 8548, 4, 7911, 54...              2\n",
       "136006  [905, 1595, 749, 27, 2508, 6383, 8729, 919, 11...              2\n",
       "136007  [954, 7598, 254, 518, 114, 333, 8737, 905, 873...              2\n",
       "\n",
       "[136008 rows x 2 columns]"
      ]
     },
     "execution_count": 184,
     "metadata": {},
     "output_type": "execute_result"
    }
   ],
   "source": [
    "ax = pd.DataFrame({\n",
    "    \"Numericalized_Review\": [seq.tolist() for seq in padded_sequences],\n",
    "    \"Encoded_Label\": labels.tolist()\n",
    "})\n",
    "\n",
    "ax"
   ]
  },
  {
   "cell_type": "code",
   "execution_count": 185,
   "id": "ba2b3528ae94b7f0",
   "metadata": {
    "ExecuteTime": {
     "end_time": "2025-03-05T22:09:36.487399Z",
     "start_time": "2025-03-05T22:09:36.482505Z"
    }
   },
   "outputs": [
    {
     "data": {
      "text/html": [
       "<div>\n",
       "<style scoped>\n",
       "    .dataframe tbody tr th:only-of-type {\n",
       "        vertical-align: middle;\n",
       "    }\n",
       "\n",
       "    .dataframe tbody tr th {\n",
       "        vertical-align: top;\n",
       "    }\n",
       "\n",
       "    .dataframe thead th {\n",
       "        text-align: right;\n",
       "    }\n",
       "</style>\n",
       "<table border=\"1\" class=\"dataframe\">\n",
       "  <thead>\n",
       "    <tr style=\"text-align: right;\">\n",
       "      <th></th>\n",
       "      <th>Review</th>\n",
       "      <th>Label</th>\n",
       "    </tr>\n",
       "  </thead>\n",
       "  <tbody>\n",
       "    <tr>\n",
       "      <th>0</th>\n",
       "      <td>Странный смузи и вкусные бельгийские вафли)  w...</td>\n",
       "      <td>positive</td>\n",
       "    </tr>\n",
       "    <tr>\n",
       "      <th>1</th>\n",
       "      <td>Все понравилось кухня вкусная спасибо персонал...</td>\n",
       "      <td>positive</td>\n",
       "    </tr>\n",
       "    <tr>\n",
       "      <th>2</th>\n",
       "      <td>Кухня на 3</td>\n",
       "      <td>neutral</td>\n",
       "    </tr>\n",
       "    <tr>\n",
       "      <th>3</th>\n",
       "      <td>Заказала фетучини с курицей и грибами, и она о...</td>\n",
       "      <td>positive</td>\n",
       "    </tr>\n",
       "    <tr>\n",
       "      <th>4</th>\n",
       "      <td>Блин у вас ,всё очень понравилось , но особенн...</td>\n",
       "      <td>positive</td>\n",
       "    </tr>\n",
       "    <tr>\n",
       "      <th>...</th>\n",
       "      <td>...</td>\n",
       "      <td>...</td>\n",
       "    </tr>\n",
       "    <tr>\n",
       "      <th>136065</th>\n",
       "      <td>Если за мясом, то точно в это заведение! Огром...</td>\n",
       "      <td>positive</td>\n",
       "    </tr>\n",
       "    <tr>\n",
       "      <th>136066</th>\n",
       "      <td>Зашел пообедать. Бизнес-ланча нет, ну ладно , ...</td>\n",
       "      <td>negative</td>\n",
       "    </tr>\n",
       "    <tr>\n",
       "      <th>136067</th>\n",
       "      <td>Пришли по рекомендации знакомых, Пробовали реб...</td>\n",
       "      <td>positive</td>\n",
       "    </tr>\n",
       "    <tr>\n",
       "      <th>136068</th>\n",
       "      <td>Невероятно атмосферное место с безумно вкусным...</td>\n",
       "      <td>positive</td>\n",
       "    </tr>\n",
       "    <tr>\n",
       "      <th>136069</th>\n",
       "      <td>Отличное открытие! Еда вкусная, обслуживание о...</td>\n",
       "      <td>positive</td>\n",
       "    </tr>\n",
       "  </tbody>\n",
       "</table>\n",
       "<p>136008 rows × 2 columns</p>\n",
       "</div>"
      ],
      "text/plain": [
       "                                                   Review     Label\n",
       "0       Странный смузи и вкусные бельгийские вафли)  w...  positive\n",
       "1       Все понравилось кухня вкусная спасибо персонал...  positive\n",
       "2                                              Кухня на 3   neutral\n",
       "3       Заказала фетучини с курицей и грибами, и она о...  positive\n",
       "4       Блин у вас ,всё очень понравилось , но особенн...  positive\n",
       "...                                                   ...       ...\n",
       "136065  Если за мясом, то точно в это заведение! Огром...  positive\n",
       "136066  Зашел пообедать. Бизнес-ланча нет, ну ладно , ...  negative\n",
       "136067  Пришли по рекомендации знакомых, Пробовали реб...  positive\n",
       "136068  Невероятно атмосферное место с безумно вкусным...  positive\n",
       "136069  Отличное открытие! Еда вкусная, обслуживание о...  positive\n",
       "\n",
       "[136008 rows x 2 columns]"
      ]
     },
     "execution_count": 185,
     "metadata": {},
     "output_type": "execute_result"
    }
   ],
   "source": [
    "all"
   ]
  },
  {
   "cell_type": "code",
   "execution_count": null,
   "id": "3db27b2ccfc8d1b8",
   "metadata": {
    "ExecuteTime": {
     "end_time": "2025-03-05T22:09:37.568341Z",
     "start_time": "2025-03-05T22:09:37.533944Z"
    }
   },
   "outputs": [],
   "source": [
    "from torch.utils.data import DataLoader, Dataset\n",
    "\n",
    "class ReviewDataset(Dataset):\n",
    "    def __init__(self, x, y):\n",
    "        self.x = x\n",
    "        self.y = y\n",
    "    def __len__(self):\n",
    "        return len(self.x)\n",
    "    def __getitem__(self, item):\n",
    "        return self.x[item], self.y[item]\n",
    "\n",
    "dataset = ReviewDataset(padded_sequences, labels)\n",
    "dataloader = DataLoader(dataset, batch_size=32, shuffle=True)"
   ]
  },
  {
   "cell_type": "code",
   "execution_count": 187,
   "id": "8abd1a1aebe4da76",
   "metadata": {
    "ExecuteTime": {
     "end_time": "2025-03-05T22:09:38.123740Z",
     "start_time": "2025-03-05T22:09:38.036267Z"
    }
   },
   "outputs": [],
   "source": [
    "from sklearn.model_selection import train_test_split\n",
    "\n",
    "x_train, x_test, y_train, y_test = train_test_split(padded_sequences, labels, test_size=0.2, random_state=42)\n",
    "\n",
    "train_dataset = ReviewDataset(x_train, y_train)\n",
    "test_dataset = ReviewDataset(x_test, y_test)\n",
    "\n",
    "train_loader = DataLoader(train_dataset, batch_size=64, shuffle=True)\n",
    "test_loader = DataLoader(test_dataset, batch_size=64, shuffle=False)"
   ]
  },
  {
   "cell_type": "code",
   "execution_count": 188,
   "id": "7e4560acf08ffd4f",
   "metadata": {
    "ExecuteTime": {
     "end_time": "2025-03-05T22:09:38.431539Z",
     "start_time": "2025-03-05T22:09:38.426168Z"
    }
   },
   "outputs": [],
   "source": [
    "import torch.nn as nn\n",
    "\n",
    "class RNN(nn.Module):\n",
    "    def __init__(self, vocab_size, embed_dim, hidden_dim, output_dim, dropout=0.5):\n",
    "        super(RNN, self).__init__()\n",
    "        self.embedding = nn.Embedding(vocab_size, embed_dim, padding_idx=0)\n",
    "        self.rnn = nn.RNN(embed_dim, hidden_dim, num_layers=2, batch_first=True)\n",
    "        self.dropout = nn.Dropout(dropout)\n",
    "        self.fc = nn.Linear(hidden_dim, output_dim)\n",
    "\n",
    "    def forward(self, x):\n",
    "        embedded = self.embedding(x)\n",
    "        rnn_out, hidden = self.rnn(embedded)\n",
    "        out = self.fc(self.dropout(hidden[-1]))\n",
    "        return out"
   ]
  },
  {
   "cell_type": "code",
   "execution_count": 189,
   "id": "7d00a9453bf3fd61",
   "metadata": {
    "ExecuteTime": {
     "end_time": "2025-03-05T22:09:38.852700Z",
     "start_time": "2025-03-05T22:09:38.835374Z"
    }
   },
   "outputs": [
    {
     "name": "stdout",
     "output_type": "stream",
     "text": [
      "RNN(\n",
      "  (embedding): Embedding(9612, 256, padding_idx=0)\n",
      "  (rnn): RNN(256, 64, num_layers=2, batch_first=True)\n",
      "  (dropout): Dropout(p=0.5, inplace=False)\n",
      "  (fc): Linear(in_features=64, out_features=3, bias=True)\n",
      ")\n"
     ]
    }
   ],
   "source": [
    "model = RNN(len(vocab), 256, 64, 3)\n",
    "print(model)"
   ]
  },
  {
   "cell_type": "code",
   "execution_count": 190,
   "id": "24fcba24571acd76",
   "metadata": {
    "ExecuteTime": {
     "end_time": "2025-03-05T22:09:39.309226Z",
     "start_time": "2025-03-05T22:09:39.303090Z"
    }
   },
   "outputs": [
    {
     "data": {
      "text/plain": [
       "RNN(\n",
       "  (embedding): Embedding(9612, 256, padding_idx=0)\n",
       "  (rnn): RNN(256, 64, num_layers=2, batch_first=True)\n",
       "  (dropout): Dropout(p=0.5, inplace=False)\n",
       "  (fc): Linear(in_features=64, out_features=3, bias=True)\n",
       ")"
      ]
     },
     "execution_count": 190,
     "metadata": {},
     "output_type": "execute_result"
    }
   ],
   "source": [
    "device = torch.device(\"cuda\" if torch.cuda.is_available() else \"cpu\")\n",
    "model.to(device)"
   ]
  },
  {
   "cell_type": "code",
   "execution_count": 191,
   "id": "2c0d64b4a32dba24",
   "metadata": {
    "ExecuteTime": {
     "end_time": "2025-03-05T22:09:40.076150Z",
     "start_time": "2025-03-05T22:09:40.071678Z"
    }
   },
   "outputs": [],
   "source": [
    "import torch.optim as optim\n",
    "\n",
    "criterion = nn.CrossEntropyLoss()\n",
    "optimizer = optim.Adam(model.parameters(), lr=0.001)"
   ]
  },
  {
   "cell_type": "code",
   "execution_count": 192,
   "id": "cb2d05ebccbdc75f",
   "metadata": {
    "ExecuteTime": {
     "end_time": "2025-03-05T22:17:15.407845Z",
     "start_time": "2025-03-05T22:09:40.827590Z"
    }
   },
   "outputs": [
    {
     "name": "stdout",
     "output_type": "stream",
     "text": [
      "Epoch 1/20, Loss: 0.6223508849042467\n",
      "Epoch 2/20, Loss: 0.6179882463070399\n",
      "Epoch 3/20, Loss: 0.6177187017996545\n",
      "Epoch 4/20, Loss: 0.6170504284140588\n",
      "Epoch 5/20, Loss: 0.6154430702984178\n",
      "Epoch 6/20, Loss: 0.6146759385713211\n",
      "Epoch 7/20, Loss: 0.6145187849803297\n",
      "Epoch 8/20, Loss: 0.6146421983217638\n",
      "Epoch 9/20, Loss: 0.6151009911377271\n",
      "Epoch 10/20, Loss: 0.6145917976871431\n",
      "Epoch 11/20, Loss: 0.6150720615024933\n",
      "Epoch 12/20, Loss: 0.612934754395928\n",
      "Epoch 13/20, Loss: 0.6129411464192059\n",
      "Epoch 14/20, Loss: 0.6116139306983677\n",
      "Epoch 15/20, Loss: 0.6111367502736361\n",
      "Epoch 16/20, Loss: 0.6114660944694128\n",
      "Epoch 17/20, Loss: 0.6120335899452916\n",
      "Epoch 18/20, Loss: 0.6126130648646122\n",
      "Epoch 19/20, Loss: 0.6149150423724857\n",
      "Epoch 20/20, Loss: 0.6134508970035606\n"
     ]
    }
   ],
   "source": [
    "num_epochs = 20\n",
    "\n",
    "for epoch in range(num_epochs):\n",
    "    total_loss = 0\n",
    "    model.train()\n",
    "\n",
    "    for batch in dataloader:\n",
    "        inputs, targets = batch\n",
    "        inputs, targets = inputs.to(device), targets.to(device)\n",
    "\n",
    "        optimizer.zero_grad()\n",
    "        outputs = model(inputs)\n",
    "        loss = criterion(outputs, targets)\n",
    "\n",
    "        loss.backward()\n",
    "        optimizer.step()\n",
    "\n",
    "        total_loss += loss.item()\n",
    "\n",
    "    print(f\"Epoch {epoch+1}/{num_epochs}, Loss: {total_loss / len(dataloader)}\")"
   ]
  },
  {
   "cell_type": "code",
   "execution_count": 196,
   "id": "5fdab31db17dd539",
   "metadata": {
    "ExecuteTime": {
     "end_time": "2025-03-05T22:17:37.713123Z",
     "start_time": "2025-03-05T22:17:36.781108Z"
    }
   },
   "outputs": [
    {
     "name": "stdout",
     "output_type": "stream",
     "text": [
      "Test Accuracy: 0.7915\n"
     ]
    }
   ],
   "source": [
    "model.eval()\n",
    "total_correct = 0\n",
    "total_samples = 0\n",
    "\n",
    "with torch.no_grad():\n",
    "    for batch in test_loader:\n",
    "        inputs, targets = batch\n",
    "        inputs, targets = inputs.to(device), targets.to(device)\n",
    "\n",
    "        outputs = model(inputs)\n",
    "        predicted = torch.argmax(outputs, dim=1)\n",
    "\n",
    "        total_correct += (predicted == targets).sum().item()\n",
    "        total_samples += targets.size(0)\n",
    "\n",
    "accuracy = total_correct / total_samples\n",
    "print(f\"Test Accuracy: {accuracy:.4f}\")"
   ]
  },
  {
   "cell_type": "code",
   "execution_count": null,
   "id": "16bedae049309c24",
   "metadata": {
    "ExecuteTime": {
     "end_time": "2025-03-05T22:17:31.839037Z",
     "start_time": "2025-03-05T22:17:31.836507Z"
    }
   },
   "outputs": [],
   "source": []
  }
 ],
 "metadata": {
  "kernelspec": {
   "display_name": "Python 3",
   "language": "python",
   "name": "python3"
  },
  "language_info": {
   "codemirror_mode": {
    "name": "ipython",
    "version": 2
   },
   "file_extension": ".py",
   "mimetype": "text/x-python",
   "name": "python",
   "nbconvert_exporter": "python",
   "pygments_lexer": "ipython2",
   "version": "2.7.6"
  }
 },
 "nbformat": 4,
 "nbformat_minor": 5
}
